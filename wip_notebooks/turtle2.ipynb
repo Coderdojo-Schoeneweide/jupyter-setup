{
 "cells": [
  {
   "cell_type": "code",
   "execution_count": null,
   "id": "198c55de-1c7f-4db9-98b5-4aca5e229257",
   "metadata": {},
   "outputs": [],
   "source": [
    "from jupyturtle import *\n",
    "\n",
    "make_turtle(animate=False)\n",
    "for _ in range(36):\n",
    "    for _ in range(60):\n",
    "        fd(3)\n",
    "        lt(6)\n",
    "    lt(10)\n",
    "draw()"
   ]
  },
  {
   "cell_type": "code",
   "execution_count": null,
   "id": "fc503beb-c59b-4ce0-ad82-468c5fb7f639",
   "metadata": {},
   "outputs": [],
   "source": []
  }
 ],
 "metadata": {
  "kernelspec": {
   "display_name": "Python 3 (ipykernel)",
   "language": "python",
   "name": "python3"
  },
  "language_info": {
   "codemirror_mode": {
    "name": "ipython",
    "version": 3
   },
   "file_extension": ".py",
   "mimetype": "text/x-python",
   "name": "python",
   "nbconvert_exporter": "python",
   "pygments_lexer": "ipython3",
   "version": "3.12.11"
  }
 },
 "nbformat": 4,
 "nbformat_minor": 5
}
