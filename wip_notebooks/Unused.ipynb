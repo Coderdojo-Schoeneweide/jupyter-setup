{
 "cells": [
  {
   "cell_type": "code",
   "execution_count": null,
   "id": "68ab5172-c3d7-4e04-a659-ed88cf22a84e",
   "metadata": {},
   "outputs": [],
   "source": [
    "from musik import ton, spiele"
   ]
  },
  {
   "cell_type": "markdown",
   "id": "bcb20ce0-a897-4b09-b222-54376feebc82",
   "metadata": {},
   "source": [
    "Die grundlegende Idee ist, dass wir etwas mehrmals tun und zwar solange eine Bedingung `True` also wahr ist.\n",
    "\n",
    "Schauen wir uns einfach mal eine an:"
   ]
  },
  {
   "cell_type": "code",
   "execution_count": null,
   "id": "d4bbe42e-5fab-4f02-98db-f33e7cceb8fe",
   "metadata": {},
   "outputs": [],
   "source": [
    "meinton = 0\n",
    "while meinton < 3:\n",
    "    # innerhalb der Schleife\n",
    "    ton(meinton)\n",
    "    meinton = meinton + 1\n",
    "\n",
    "# nach der Schleife\n",
    "spiele()"
   ]
  },
  {
   "cell_type": "markdown",
   "id": "ce8ed130-2285-4baa-9185-96cc9be12886",
   "metadata": {},
   "source": [
    "Was passiert denn hier? Macht euch bereit. Was jetzt kommt ist ein bisschen schwierig.\n",
    "\n",
    "Das Grundprinzip einer Schleife ist Folgendes:\n",
    "1. Prüfe die Bedingung z.B. `meinton < 3`. Wenn die Bedingung stimmt, mache weiter mit Punkt 2. Wenn die Bedingung nicht stimmt, springe zu Punkt 3.\n",
    "2. Führe die Befehle innerhalb der Schleife aus. Dann springe zu Punkt 1.\n",
    "3. Führe die Befehle nach der Schleife aus.\n",
    "\n",
    "Ok, Stück für Stück:\n",
    "* `meinton = 0` hier wird eine Variable erstellt mit dem Wert `0`.\n",
    "* Jetzt kommt die Schleife:\n",
    "  * `while` sagt, dass wir hier die Schleife starten. `while` heißt übersetzt \"solange\".\n",
    "    * **Durchlauf 1**\n",
    "      * Dann kommt die Bedingung `meinton < 3`. Solange diese Bedingung `True` (also wahr) ist, wird die Schleife wiederholt.\n",
    "      * `ton(meinton)`: Hier passiert die Arbeit. Wir spielen den Ton `meinton` ab. Aktuell ist `meinton` `0`.\n",
    "      * `meinton = meinton + 1`: Wir erhöhen `meinton` um eins. `meinton` ist jetzt also `1`.\n",
    "      * Und jetzt kommt die ganze Magie. An dieser Stelle machen wir nicht einfach weiter, sondern wir springen wieder nach oben in der Schleife.\n",
    "    * **Durchlauf 2**\n",
    "      * Als erstes prüfen wir wieder unsere Bedingung `meinton < 3`. `meinton` ist aktuell `1` und `1 < 3`. Das heißt wir machen weiter.\n",
    "      * `ton(meinton)`: Jetzt spielen wir den nächsten Ton. `meinton` ist jetzt `1`.\n",
    "      * `meinton = meinton + 1`: Wir erhöhen `meinton` von `1` auf `2`.\n",
    "    * **Durchlauf 3**\n",
    "      * Als erstes prüfen wir wieder unsere Bedingung `meinton < 3`. `meinton` ist aktuell `2` und `2 < 3`. Das heißt wir machen weiter.\n",
    "      * `ton(meinton)`: Jetzt spielen wir den nächsten Ton. `meinton` ist jetzt `2`.\n",
    "      * `meinton = meinton + 1`: Wir erhöhen `meinton` von `2` auf `3`.\n",
    "    * **Durchlauf 4**\n",
    "      * Als erstes prüfen wir wieder unsere Bedingung `meinton < 3`. `meinton` ist aktuell `3`. Jetzt Achtung! Wir prüfen `3 < 3`. Aber drei ist NICHT kleiner als drei (sie sind ja gleich groß). Das heißt wir stoppen an dieser Stelle unsere Schleife.\n",
    "     \n",
    "Ok, das war ganz schön viel. Wenn du Fragen hast, frag uns gerne. Diese Stelle ist eine der kompliziertesten, die wir heute machen."
   ]
  },
  {
   "cell_type": "code",
   "execution_count": null,
   "id": "4e69cba8-02f8-4dd6-a385-ea693b01c21a",
   "metadata": {},
   "outputs": [],
   "source": []
  }
 ],
 "metadata": {
  "kernelspec": {
   "display_name": "Python 3 (ipykernel)",
   "language": "python",
   "name": "python3"
  },
  "language_info": {
   "codemirror_mode": {
    "name": "ipython",
    "version": 3
   },
   "file_extension": ".py",
   "mimetype": "text/x-python",
   "name": "python",
   "nbconvert_exporter": "python",
   "pygments_lexer": "ipython3",
   "version": "3.12.11"
  }
 },
 "nbformat": 4,
 "nbformat_minor": 5
}
