{
 "cells": [
  {
   "cell_type": "code",
   "execution_count": null,
   "id": "35bbdf6b-4ab1-4c92-9989-b9727b2d217f",
   "metadata": {},
   "outputs": [],
   "source": [
    "from jupyturtle import *\n",
    "from jupyturtle import Turtle\n",
    "\n",
    "for name in sorted(dir(jupyturtle), key=str.upper):\n",
    "    if len(name) == 2:    \n",
    "        print(name)"
   ]
  },
  {
   "cell_type": "code",
   "execution_count": null,
   "id": "6f667633-9a85-4f30-b003-b8faf4b7daef",
   "metadata": {},
   "outputs": [],
   "source": [
    "t1 = Turtle(animate=True)\n",
    "for i in range(0, 10, 5):\n",
    "    t1.forward(2)\n",
    "    t1.left(2)"
   ]
  },
  {
   "cell_type": "code",
   "execution_count": null,
   "id": "799fdfe4-fd4c-46df-8852-3a1ef4838d6e",
   "metadata": {},
   "outputs": [],
   "source": [
    "t2 = Turtle(animate=False)\n",
    "for i in range(360):\n",
    "    t2.forward(.5)\n",
    "    t2.left(1)\n",
    "\n",
    "t_fast.draw()"
   ]
  }
 ],
 "metadata": {
  "kernelspec": {
   "display_name": "Python 3 (ipykernel)",
   "language": "python",
   "name": "python3"
  },
  "language_info": {
   "codemirror_mode": {
    "name": "ipython",
    "version": 3
   },
   "file_extension": ".py",
   "mimetype": "text/x-python",
   "name": "python",
   "nbconvert_exporter": "python",
   "pygments_lexer": "ipython3",
   "version": "3.12.11"
  }
 },
 "nbformat": 4,
 "nbformat_minor": 5
}
