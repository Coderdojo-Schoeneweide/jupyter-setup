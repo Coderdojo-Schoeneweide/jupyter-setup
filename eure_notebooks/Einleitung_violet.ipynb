{
 "cells": [
  {
   "cell_type": "markdown",
   "id": "267114bc-cf5a-4032-98be-0c4c1cb453b9",
   "metadata": {},
   "source": [
    "# Vorbereitung\n",
    "\n",
    "Du ließt gerade ein sogenanntes \"Jupyter Notebook\". Hier kannst du Erklärungen lesen und Python Programme ausprobieren.\n",
    "\n",
    "Bevor wir loslegen können, klicke oben links auf `Datei > Notebook speichern als` und gebe der Datei einen Namen z.B. `Tutorial01_<DeinName>.ipynb`. Sonst haben wir das Problem, dass alle im selben Notebook schreiben."
   ]
  },
  {
   "cell_type": "markdown",
   "id": "557f7328-d331-4978-a4dc-a8a53f8169ed",
   "metadata": {},
   "source": [
    "# Wir lernen Python\n",
    "\n",
    "Um etwas auszuprobieren klicke in die Zeile hier drunter und drücke gleichzeitig Shift + Enter.\n",
    "\n",
    "Probier mal die folgende Zeile aus:"
   ]
  },
  {
   "cell_type": "code",
   "execution_count": null,
   "id": "f967e4f6-aef6-47df-b817-640f5ce27a27",
   "metadata": {},
   "outputs": [],
   "source": [
    "  Hier klicken und dann Shift + Enter drücken.\n",
    "print('Das ist mein erstes Python-Programm!')\n",
    "\n"
   ]
  },
  {
   "cell_type": "markdown",
   "id": "6b8ccaba-7794-4e37-baab-4e056ce9cf3e",
   "metadata": {},
   "source": [
    "Hurra, du hast es geschafft! Diese Python-Zeile hat den Text `Das ist mein erstes Python-Programm!` ausgegeben. Du solltest diesen Text jetzt unter dem Programm sehen können.\n",
    "\n",
    "Alle Zeilen, die mit einem `#` anfangen, sind sogenannte Kommentare und werden vom Computer ignoriert. Sie sind aber sehr praktisch für uns, um uns Dinge zu notieren.\n",
    "\n",
    "Kannst du den Text ändern und dein eigenes Programm daraus machen?"
   ]
  },
  {
   "cell_type": "markdown",
   "id": "48b5e056-42d2-4263-a174-319b63eeeea5",
   "metadata": {},
   "source": [
    "## Rechnen\n",
    "Du kannst auch Rechnen mit Python:"
   ]
  },
  {
   "cell_type": "code",
   "execution_count": null,
   "id": "43f2c9b5-3bb8-4a4b-a0e9-85c83eb55de2",
   "metadata": {},
   "outputs": [],
   "source": [
    "print(3+9)\n"
   ]
  },
  {
   "cell_type": "markdown",
   "id": "85208c26-d54d-48ee-95e9-5a2bf2f5afac",
   "metadata": {},
   "source": [
    "Du kannst ja mal andere Zahlen ausprobieren.\n",
    "\n",
    "Kleiner Tipp: Mit `+`, `-`, `*` und `/` kannst du die vier Grundrechenarten durchführen. Außerdem gibt es `**`, um hoch zu berechnen.\n",
    "Frag uns gerne, was \"hoch\" rechnen bedeutet.\n",
    "\n",
    "Ich wette damit kannst du Sachen ausrechnen, die selbst deine Eltern nicht mehr wissen!"
   ]
  },
  {
   "cell_type": "code",
   "execution_count": null,
   "id": "d07d7c21-8aaf-455e-bf61-eaf21bcde868",
   "metadata": {},
   "outputs": [],
   "source": [
    "print(35 * 36)\n",
    "\n"
   ]
  },
  {
   "cell_type": "markdown",
   "id": "8e994a0c-eb26-4e04-a1ad-37f60234fdae",
   "metadata": {},
   "source": [
    "## Mission\n",
    "\n",
    "Probier mal die folgenden Sachen aus:\n",
    "\n",
    "* Was kommt raus, wenn man eine kleine Zahl minus eine große Zahl rechnet, z.B. `print(2 - 4)`?\n",
    "* Was ist das doppelte von 12345?\n",
    "* Was ist eigentlich 1 / 9?\n",
    "* Und was kommt raus, wenn man das Ergebnis von 1 / 9 nochmal durch 9 teilt?\n",
    "* Jede Minute vergehen 60 Sekunden. Aber wieviele Sekunden vergehen in einer Stunde? Oder an einem Tag?\n",
    "* **Knobelaufgabe:** Was ist die größte Zahl, die man ausrechnen kann?"
   ]
  },
  {
   "cell_type": "code",
   "execution_count": null,
   "id": "646a0023-6035-495e-b153-a3b9295661d7",
   "metadata": {},
   "outputs": [],
   "source": [
    "# Hier kannst du ausprobieren\n",
    "print(999534806337984269841159085212690732499525974953735973496260725181818182884279226268251816252925826182527171016101619151915116148171317185782595339373637642288\n",
    "      *9999999999999999999999999999999999999999999999999999999999990000000000000000000000000000000000000000000000001928354836281639454726283683628463728473647382736481919203847648382764553728376476487258476482736283762348764876324876324768463718374629374628378646163739474638292736473823746463828277348974647735482671038937789909187623144566780029875431134679085421357908642368084213699731258907521278084114799512579052135007411580063147008424899534896326996358911798358963586258863247864137984226885236244346477676866666637363710976421469075421369874225799642179975312468985421257907431358074214689965313679076314690964224887531357986421489752468742157621369731585258\n",
    "     )\n",
    "\n",
    "\n",
    "\n",
    "\n",
    "\n",
    "\n",
    "\n",
    "\n",
    "\n"
   ]
  },
  {
   "cell_type": "markdown",
   "id": "1efba249-47a7-488e-abac-8ce6165aa4f7",
   "metadata": {},
   "source": [
    "### Zusatz\n",
    "\n",
    "Wahrscheinlich hast du eine paar riesige Zahlen ausgerechnet. Aber welche ist wirklich die Größte?\n",
    "In Python gibt es eine Möglichkeit zu prüfen, welche Zahl größer ist. Das geht mit `<` oder `>`, z.B. `1 < 3` (eins ist kleiner als drei)."
   ]
  },
  {
   "cell_type": "code",
   "execution_count": null,
   "id": "029c9ecf-c86b-4693-8964-0914959631be",
   "metadata": {},
   "outputs": [],
   "source": [
    "print(1 < 3)  # ist eins kleiner als drei?"
   ]
  },
  {
   "cell_type": "markdown",
   "id": "25a0118f-2cc7-41f6-a235-d6c5365e640d",
   "metadata": {},
   "source": [
    "Aber was ist denn `True`? Das heißt wahr auf englisch. Und das macht ja auch Sinn, denn `1` ist ja kleiner als `3` (`1 < 3`). Was passiert wenn wir etwas ausprobieren, was nicht wahr ist?"
   ]
  },
  {
   "cell_type": "code",
   "execution_count": null,
   "id": "508aeece-d4e5-4fa6-94fc-d15bcd888746",
   "metadata": {},
   "outputs": [],
   "source": [
    "print(1 > 3)  # ist sieben kleiner als sieben comma eins?\n"
   ]
  },
  {
   "cell_type": "markdown",
   "id": "11cab9f8-6c15-4d23-beb7-f5bfda2dde64",
   "metadata": {},
   "source": [
    "An dieser Stelle wird `False` ausgegeben, das bedeutet das die Aussage `1 > 3` (eins ist größer als drei) nicht wahr ist. Ist sie ja auch nicht ;)\n",
    "\n",
    "Die Werte `True` und `False` werden uns vielleicht später nochmal begegnen, jetzt kümmern wir uns aber erstmal um die wichtigen Dinge!"
   ]
  },
  {
   "cell_type": "markdown",
   "id": "d946a4cc-7b2a-4478-8393-a0c4e58973dc",
   "metadata": {},
   "source": [
    "## Variablen\n",
    "\n",
    "Eine Variable ist wie ein Zettel, auf dem man etwas aufschreiben und sich merken kann.\n",
    "\n",
    "Eine Variable hat einen Namen z.B. `zahl` und sie hat einen Wert, den man sich merken möchte `zahl = 42`.\n",
    "\n",
    "Im Folgenden kannst du deine eigene Lieblingszahl speichern:"
   ]
  },
  {
   "cell_type": "code",
   "execution_count": null,
   "id": "a016316f-4153-41fc-a354-26ecd8b045d0",
   "metadata": {},
   "outputs": [],
   "source": [
    "zahl = 12\n",
    "I"
   ]
  },
  {
   "cell_type": "markdown",
   "id": "54b74a9e-8ec6-40d5-b3b2-837ed2563edc",
   "metadata": {},
   "source": [
    "Jetzt sieht man erstmal nichts, aber tatsächlich haben wir es geschafft! Wir haben deine Lieblingszahl gespeichert. Jetzt kannst du auf darauf zugreifen:"
   ]
  },
  {
   "cell_type": "code",
   "execution_count": null,
   "id": "eabcbbe3-22f3-44e8-8fc3-fc4c42c3b360",
   "metadata": {},
   "outputs": [],
   "source": [
    "print(zahl*1124 l\n",
    "     )"
   ]
  },
  {
   "cell_type": "markdown",
   "id": "c96c5424-1864-4c7c-99f7-1f6ab637ddf4",
   "metadata": {},
   "source": [
    "Hurra! Deine Lieblingszahl gespeichert in deiner Variable.\n",
    "\n",
    "Es wirkt erstmal nicht so besonders, aber tatsächlich ist das eine ganz wichtige Sache, um Programme zu schreiben.\n",
    "\n",
    "Was wir jetzt machen können, ist mit deiner Variablen zu rechnen z.B. `print(zahl + 1)`.\n",
    "\n",
    "## Mission\n",
    "Probier mal die folgenden Dinge auszurechnen:\n",
    "\n",
    "* Die Zahl eins größer als deine Lieblingszahl.\n",
    "* Das Doppelte deiner Variable.\n",
    "* Den Kehrwert, das ist die Zahl `1` geteilt durch deine Variable.\n",
    "* Deine Lieblingszahl hoch 2.\n",
    "* Deine Lieblingszahl mal sich selbst.\n",
    "* Erstelle eine zweite Variable mit einem Namen deiner Wahl.\n",
    "* Was ist `zahl` + deine Variable?"
   ]
  },
  {
   "cell_type": "code",
   "execution_count": null,
   "id": "67ce67b1-a06c-465e-a019-86fdc0f3f5c1",
   "metadata": {},
   "outputs": [],
   "source": [
    "print(zahl**2) / l\n",
    "\n",
    "\n",
    "\n",
    "\n",
    "\n",
    "\n",
    "\n",
    "\n",
    "/"
   ]
  },
  {
   "cell_type": "markdown",
   "id": "8f2ff571-b1b5-4103-bb79-62ee091f1996",
   "metadata": {},
   "source": [
    "Ok, eine Sache zeige ich euch noch in diesem Notebook. Das praktische an Variablen ist auch, dass man sie verändern kann.\n",
    "\n",
    "Probiere die folgenden Zeilen mehrmals aus."
   ]
  },
  {
   "cell_type": "code",
   "execution_count": null,
   "id": "aec5adb6-bc05-445e-bdf7-19f691e60c12",
   "metadata": {},
   "outputs": [],
   "source": [
    "zahl = zahl + 1\n",
    "print(zahl)\n",
    "\n"
   ]
  },
  {
   "cell_type": "markdown",
   "id": "e144aeb8-db6b-4593-83ff-ce02c49b1e24",
   "metadata": {},
   "source": [
    "Schauen wir uns die Zeile `zahl = zahl + 1` mal genauer an. Was passiert hier?\n",
    "\n",
    "Sagen wir `zahl` ist am Anfang `42`.\n",
    "Als erstes rechnen wir die rechte Seite aus `zahl + 1`. Da kommt jetzt `43` raus. Jetzt steht dort quasi `zahl = 43`. Wir haben unsere Variable also um eins erhöht."
   ]
  },
  {
   "cell_type": "markdown",
   "id": "d0e08edc-ea2c-4b37-9d1d-2495d26e8734",
   "metadata": {},
   "source": [
    "## Mission\n",
    "\n",
    "* Erhöhe jedes mal deine Variable um 2.\n",
    "* Verdopple deine Variable jedes mal.\n",
    "* Teile `1` jedes mal durch deine Zahl.\n",
    "\n",
    "Tipp: Wenn die Zahl zu groß geworden ist, kannst du sie mit `zahl = 42` zurück setzen."
   ]
  },
  {
   "cell_type": "code",
   "execution_count": null,
   "id": "056dc9d7-dac0-496e-bd03-d0c60f4caf05",
   "metadata": {},
   "outputs": [],
   "source": [
    "zahl = zahl * * 2\n",
    "print(zahl) *\n"
   ]
  },
  {
   "cell_type": "code",
   "execution_count": null,
   "id": "93d473b6-4019-4d7d-b401-bddfcf51c7f1",
   "metadata": {},
   "outputs": [],
   "source": []
  },
  {
   "cell_type": "markdown",
   "id": "0349b727-ae1f-4e22-ae43-dc96cfa28b25",
   "metadata": {},
   "source": [
    "Ok, das war es erstmal mit der ersten Anleitung. Das ist ein guter Moment, um eine Pause zu machen! Schau mal was die anderen machen oder genieß das hoffenlich schöne Wetter.\n",
    "\n",
    "Dann kannst du auch die weiteren Anleitungen anschauen. Dort schauen wir uns an, wie man Ton abspielen kann oder kleine Schildkröten steuern kann."
   ]
  },
  {
   "cell_type": "code",
   "execution_count": null,
   "id": "b38a48ec-e727-4b66-9d27-9eac0f9118ef",
   "metadata": {},
   "outputs": [],
   "source": [
    "(7777<12344567890) #ist oli dumm?\n"
   ]
  },
  {
   "cell_type": "code",
   "execution_count": null,
   "id": "a5c684de-84fe-46b1-9783-29c24efdc29b",
   "metadata": {},
   "outputs": [],
   "source": [
    "(1234678>12340) \n"
   ]
  },
  {
   "cell_type": "code",
   "execution_count": null,
   "id": "5f6d7414-f2e0-45b5-b551-86d51477a90e",
   "metadata": {},
   "outputs": [],
   "source": [
    "(7>8) #ist sieben größer als acht?\n",
    "\n"
   ]
  },
  {
   "cell_type": "code",
   "execution_count": null,
   "id": "932a4977-4bd0-4627-b9cc-678ca957cd04",
   "metadata": {},
   "outputs": [],
   "source": [
    " #ist oli schlau?\n"
   ]
  },
  {
   "cell_type": "code",
   "execution_count": null,
   "id": "33fd3bc0-ce11-4464-b294-e1796526f1ad",
   "metadata": {},
   "outputs": [],
   "source": []
  }
 ],
 "metadata": {
  "kernelspec": {
   "display_name": "Python 3 (ipykernel)",
   "language": "python",
   "name": "python3"
  },
  "language_info": {
   "codemirror_mode": {
    "name": "ipython",
    "version": 3
   },
   "file_extension": ".py",
   "mimetype": "text/x-python",
   "name": "python",
   "nbconvert_exporter": "python",
   "pygments_lexer": "ipython3",
   "version": "3.12.11"
  }
 },
 "nbformat": 4,
 "nbformat_minor": 5
}
