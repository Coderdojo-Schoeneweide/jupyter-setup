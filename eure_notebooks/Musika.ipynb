{
 "cells": [
  {
   "cell_type": "markdown",
   "id": "f61ef9de-201b-4bae-905e-fefa80f667dd",
   "metadata": {},
   "source": [
    "Hier lernen wir, wie man in Python Musik machen kann. Dabei lernen wir auch, wie man in Python\n",
    "* Funktionen importiert und aufruft\n",
    "* Einfache Schleifen verwendet\n",
    "* Listen verwendet"
   ]
  },
  {
   "cell_type": "markdown",
   "id": "b7981b2b-7ffe-45a5-9f1f-4f5a8bdca7b7",
   "metadata": {},
   "source": [
    "Als erstes müssen wir die folgende Zeile ausführen. Das sorgt dafür, dass wir gleich `ton()` und `spiele()` verwenden können, die ich extra für diesen Workshop vorbereitet habe.\n",
    "\n",
    "Das `import` zeigt an, dass wir Dinge verwenden wollen, die jemand anderes schon vorbereitet hat.\n",
    "Das ist das coole am Programmieren, dass man die Dinge von anderen Leuten verwenden kann! Komplett kostenlos."
   ]
  },
  {
   "cell_type": "code",
   "execution_count": null,
   "id": "69a33ce3-8f02-4832-b912-212a07ec1951",
   "metadata": {},
   "outputs": [],
   "source": [
    "from musik import ton, spiele\n",
    "import random"
   ]
  },
  {
   "cell_type": "markdown",
   "id": "bf681423-9f24-48d5-9b03-2f9d293cc4ef",
   "metadata": {},
   "source": [
    "Jetzt wo wir mit der Vorbereitung fertig sind, können wir einen Ton abspielen. Das geht folgendesmaßen:"
   ]
  },
  {
   "cell_type": "code",
   "execution_count": null,
   "id": "cc1d7697-acdc-4c3f-9195-bbdac8abc009",
   "metadata": {},
   "outputs": [],
   "source": [
    "# Hier sagen wir, welcher Ton gespielt werden soll\n",
    "ton(1)\n",
    "\n",
    "# Hier wird der Ton abgespielt.\n",
    "spiele()"
   ]
  },
  {
   "cell_type": "markdown",
   "id": "0dc71358-6b14-4411-ad4d-3f6db42c160a",
   "metadata": {},
   "source": [
    "Wichtig ist, dass wir immer ganz am Ende die `spiele()`-Funktion verwenden, um den Ton abzuspielen. Sie funktioniert nur am Ende des Blockes.\n",
    "\n",
    "Wir können auch mehrere Töne abspielen:"
   ]
  },
  {
   "cell_type": "code",
   "execution_count": null,
   "id": "b33e64bb-2918-4f18-a7b0-8512ae1bfd17",
   "metadata": {},
   "outputs": [],
   "source": [
    "ton(1,2)\n",
    "ton(2,2)\n",
    "ton(3,2)\n",
    "ton(4,2)\n",
    "ton(1,2)\n",
    "ton(2,2)\n",
    "ton(3,2)\n",
    "ton(4,2)\n",
    "spiele()"
   ]
  },
  {
   "cell_type": "markdown",
   "id": "ed61e7ca-177d-4b1b-9d29-0d76d71d8058",
   "metadata": {},
   "source": [
    "## Mission\n",
    "\n",
    "* Erstelle dein eigenes Lied!\n",
    "\n",
    "**Pro-Tipp:** Wenn du bei `ton(1)` noch ein zweites Argument übergibst, kannst du bestimmen, wie lange der Ton geht (in Sekunden), z.B. `ton(1, 0.5)`."
   ]
  },
  {
   "cell_type": "code",
   "execution_count": null,
   "id": "9d6cbdad-c61c-4a1d-a0e7-1aa0625714a7",
   "metadata": {},
   "outputs": [],
   "source": []
  },
  {
   "cell_type": "code",
   "execution_count": null,
   "id": "7d5d4358-3f1f-44d6-85fe-5d9a29e6aa12",
   "metadata": {},
   "outputs": [],
   "source": []
  },
  {
   "cell_type": "markdown",
   "id": "3f7758da-6a4c-4aff-9eaf-7eca8deb879a",
   "metadata": {},
   "source": [
    "## Töne und Variablen\n",
    "\n",
    "Wie du dir vielleicht schon denkst, können wir jetzt auch Variablen verwenden, um Töne zu erstellen."
   ]
  },
  {
   "cell_type": "code",
   "execution_count": null,
   "id": "73b1eab6-40e7-4fdd-bcee-bc4b8e19cb15",
   "metadata": {},
   "outputs": [],
   "source": [
    "meinton = 0\n",
    "dauer = 1.0\n",
    "\n",
    "ton(meinton, dauer*2)\n",
    "ton(meinton+1, dauer)\n",
    "ton(meinton+2, dauer)\n",
    "\n",
    "spiele()"
   ]
  },
  {
   "cell_type": "markdown",
   "id": "b4b9b61d-0ac0-4c45-9084-3f5002702355",
   "metadata": {},
   "source": [
    "Das ist ganz praktisch. Zum Beispiel können wir jetzt die Geschwindigkeit des Stückes verändern, indem wir die Variable `dauer` verkleinern oder die Tonhöhe ändern, indem wir `meinton` verändern. Probier das doch mal im Beispiel oben aus."
   ]
  },
  {
   "cell_type": "markdown",
   "id": "771443f5-e2f2-461b-807f-70b74274950c",
   "metadata": {},
   "source": [
    "## Schleifen\n",
    "\n",
    "Eine ganz tolle Möglichkeit, um viele Töne zu erstellen sind Schleifen!\n",
    "\n",
    "Schleifen werden benutzt, um Dinge mehr als einmal zu machen.\n",
    "\n",
    "Die einfachste Schleife ist diese:"
   ]
  },
  {
   "cell_type": "code",
   "execution_count": null,
   "id": "89e50b50-7f52-4b94-83d2-6bd33ab29cb8",
   "metadata": {},
   "outputs": [],
   "source": [
    "for t in range(3):\n",
    "    ton(0)\n",
    "\n",
    "spiele()"
   ]
  },
  {
   "cell_type": "markdown",
   "id": "6ec48ccf-631a-48ae-8b9b-32cc7587e30b",
   "metadata": {},
   "source": [
    "Vielleicht hat man es kaum gehört, aber es wurde 3 mal der gleiche Ton abgespielt. Das liegt daran das in `range(3)` eine `3` eingestellt ist. Probier mal, was bei anderen Zahlen passiert.\n",
    "Schreib dazu die obere Schleife ab in das Feld unterhalb.\n",
    "\n",
    "Ganz wichtig ist, dass die Einrückung (das ist der Platz links vor dem ersten Wort) genau so ist, wie oben gesehen. Du kannst das mit der Tab-Taste machen, die sich links oben auf der Tastatur befindet. Frag uns am besten, wenn das nicht klar ist."
   ]
  },
  {
   "cell_type": "code",
   "execution_count": null,
   "id": "ec5286de-06c5-45a0-a0db-dd416924f96b",
   "metadata": {},
   "outputs": [],
   "source": [
    "# Hier kommt deine Schleife hin!\n"
   ]
  },
  {
   "cell_type": "markdown",
   "id": "3dd8536e-b86d-4768-b7e4-f8c0fb653e47",
   "metadata": {},
   "source": [
    "Vielleicht fragst du dich schon, was das `t` in `for t in range(3):` für eine Bedeutung hat.\n",
    "\n",
    "Das `t` ist eine Variable, die mitzählt wie häufig die Schleife schon ausgeführt wurde. Beim ersten mal in der Schleife ist sie `0`, dann `1` und dann `2`.\n",
    "\n",
    "Wenn man sagt \"Zähle mal bis 3\", würden die meisten wahrscheinlich \"1, 2, 3\" zählen. Computer zählen dann häufig \"0, 1, 2\" was erstmal sicherlich etwas verwirrend ist. Man gewöhnt sich aber mit der Zeit daran.\n",
    "\n",
    "Lass uns das am besten mal ausprobieren, indem wir die Variable `t` verwenden, um unterschiedliche Töne zu erzeugen:"
   ]
  },
  {
   "cell_type": "code",
   "execution_count": null,
   "id": "4bf82e2f-45b8-4594-a9fe-a23f7a60c240",
   "metadata": {},
   "outputs": [],
   "source": [
    "for t in range(3):\n",
    "    ton(t)\n",
    "\n",
    "spiele()"
   ]
  },
  {
   "cell_type": "markdown",
   "id": "fa8733cd-b576-496e-b732-4358a9e0699a",
   "metadata": {},
   "source": [
    "Verstehst du was passiert? Denke ein wenig drüber nach. Schleifen sind nicht einfach zu verstehen.\n",
    "\n",
    "Im Endeffekt ist der Code\n",
    "```\n",
    "for t in range(5):\n",
    "    ton(t)\n",
    "```\n",
    "das Selbe wie\n",
    "```\n",
    "ton(0)\n",
    "ton(1)\n",
    "ton(2)\n",
    "ton(3)\n",
    "ton(4)\n",
    "```\n",
    "\n",
    "Es geht nur viel schneller zu schreiben, wenn  man z.B. 100 Töne erzeugen möchte ;)"
   ]
  },
  {
   "cell_type": "markdown",
   "id": "455d2b00-024e-4dca-ad2c-4a863581fea8",
   "metadata": {},
   "source": [
    "## Mission\n",
    "\n",
    "* Erzeuge erstmal eine Schleife wie vorher und lasse 10 mal den Ton 5 abspielen.\n",
    "* Lass die Töne 0, 1, 2, 3, 4 abspielen. Welche Zahl musst du in `range()` einstellen?\n",
    "* **Knobelaufgabe 1:** Wie können wir die Töne 10, 11, 12, 13, 14 abspielen? **Tipp:** Wir können mit der Variablen `t` rechnen, wie wir es auch in der Einleitung gemacht haben!\n",
    "* **Knobelaufgabe 2:** Wie können wir die Töne der Zweierreihe 0, 2, 4, 6, 8, 10 abspielen?"
   ]
  },
  {
   "cell_type": "code",
   "execution_count": null,
   "id": "d2458b0b-a610-4779-82cc-11d92237dcba",
   "metadata": {},
   "outputs": [],
   "source": [
    "# Hier kommt deine Lösung rein"
   ]
  },
  {
   "cell_type": "markdown",
   "id": "09ef27e8-b0a0-43d9-9f07-2503459679ae",
   "metadata": {},
   "source": [
    "## Zufall\n",
    "\n",
    "Wenn man ein bisschen mehr Überraschung in seiner Musik haben möchte, kann man Zufall auf englisch `random` verwenden.\n",
    "\n",
    "Führe den folgenden Block mehrmals aus und schaue was passiert:"
   ]
  },
  {
   "cell_type": "code",
   "execution_count": null,
   "id": "5f8e8aaa-0c0a-4e7c-a7a8-35925648459f",
   "metadata": {},
   "outputs": [],
   "source": [
    "t = random.randint(-5, 5)\n",
    "print(t)\n",
    "ton(t)\n",
    "spiele()"
   ]
  },
  {
   "cell_type": "markdown",
   "id": "8d9270db-5783-494e-b2d0-af442275be9e",
   "metadata": {},
   "source": [
    "In der ersten Zeile `t = random.randint(-5, 5)` erzeugen wir eine zufällige Zahl zwischen `-5` und `5`.\n",
    "\n",
    "`print(t)` zeigt an, welche Zahl ausgesucht wurde.\n",
    "\n",
    "Dann erzeugen wir unseren Zufallston mit `ton(t)` und am spielen wir ihn ab `spiele()`.\n",
    "\n",
    "All das können wir auch in einer Schleife machen:"
   ]
  },
  {
   "cell_type": "code",
   "execution_count": null,
   "id": "e07976ab-37a1-449b-9009-5e47109b3b1d",
   "metadata": {},
   "outputs": [],
   "source": [
    "for i in range(10):\n",
    "    \n",
    "    t = random.randint(-5, 5)\n",
    "    print(t)\n",
    "    ton(t)\n",
    "    \n",
    "spiele()"
   ]
  },
  {
   "cell_type": "markdown",
   "id": "94396b90-99e4-456c-a9e7-763dfc4bcd7a",
   "metadata": {},
   "source": [
    "## Pause\n",
    "Das war schon wieder ganz schön viel! Ich würde dir empfehlen eine kleine Pause zu machen, wenn du erschöpft bist!"
   ]
  },
  {
   "cell_type": "markdown",
   "id": "e5d405dd-b2e6-428a-8307-515b121294e6",
   "metadata": {},
   "source": [
    "## Mehrere Töne - Akkorde\n",
    "\n",
    "Bis jetzt haben wir viele Töne nacheinander abgespielt. Aber wie können wir mehrere Töne gleichzeitig abspielen?\n",
    "\n",
    "Der Trick dazu sind sogenannte `Listen`. Eine Liste ist eine Sammlung von mehreren Tönen (oder auch anderen Dingen)."
   ]
  },
  {
   "cell_type": "code",
   "execution_count": null,
   "id": "623a3064-aeb1-4bbf-a25b-3f85a08425bc",
   "metadata": {},
   "outputs": [],
   "source": [
    "akkord = [0, 2, 4]\n",
    "ton(akkord)\n",
    "spiele()"
   ]
  },
  {
   "cell_type": "markdown",
   "id": "fa906ed8-b49d-440f-89a3-255e9f5d7eec",
   "metadata": {},
   "source": [
    "Statt einen einzelnen Ton, verwenden wir hier gleich drei Töne in einer Liste.\n",
    "Das Schwierigste hier sind die eckigen Klammern `[` und `]`.\n",
    "\n",
    "* Für Windows: `AltGr` + `8` oder `9`\n",
    "* Für Mac: `alt` + `5` oder `6`\n",
    "\n",
    "Schreibe deinen eigenen Akkord und spiele in ab. Kleiner Tipp: Besonders schön sind Töne mit Abstand 2 oder 3 ;)"
   ]
  },
  {
   "cell_type": "code",
   "execution_count": null,
   "id": "370389b8-bd20-4d49-87c3-6a0a34344638",
   "metadata": {},
   "outputs": [],
   "source": [
    "# Dein Akkord kommt hier rein\n"
   ]
  },
  {
   "cell_type": "markdown",
   "id": "57f806d8-5896-4ebd-b5e6-676ed7ffcef8",
   "metadata": {},
   "source": [
    "## Mission\n",
    "\n",
    "1. Schreibe eine kleine Sammlung von Akkorden, die dir gefallen. Als Orientierung kannst du meine nehmen:\n",
    "```\n",
    "akkord1 = [0, 2, 4]\n",
    "akkord2 = [0, 3, 5]\n",
    "akkord3 = [-1, 1, 4]\n",
    "```\n",
    "2. Welche Akkorde klingen nacheinander am besten? Spiele sie nacheinander ab mit `ton(akkord)`.\n",
    "3. Du kannst auch hier entscheiden, wie lang die Akkorde spielen sollen `ton(akkord, 0.2)`."
   ]
  },
  {
   "cell_type": "code",
   "execution_count": null,
   "id": "95d9f5de-4021-4c89-8efe-d003cc4834e1",
   "metadata": {},
   "outputs": [],
   "source": [
    "-5,2\n"
   ]
  },
  {
   "cell_type": "code",
   "execution_count": null,
   "id": "ec671d9d-5e2c-402d-bde3-6111fdc5f176",
   "metadata": {},
   "outputs": [],
   "source": [
    "3,2\n"
   ]
  },
  {
   "cell_type": "code",
   "execution_count": null,
   "id": "acb5595e-3f9e-4b44-ae58-a4cb7e16d8b1",
   "metadata": {},
   "outputs": [],
   "source": [
    "4,2\n"
   ]
  },
  {
   "cell_type": "markdown",
   "id": "9b3835bc-6d01-4d69-bc85-2b5f6907d07f",
   "metadata": {},
   "source": [
    "## Einzeltöne von Akkorden - Arpeggio\n",
    "\n",
    "Jetzt haben wir eine tolle Möglichkeit, um mehrere Töne gleichzeitig abzuspielen. Manchmal möchte man jetzt aber die einzelnen Töne eines Akkordes wieder abspielen.\n",
    "\n",
    "Ob du es glaubst oder nicht, aber dazu können wir wieder die Schleifen von vorher verwenden:"
   ]
  },
  {
   "cell_type": "code",
   "execution_count": null,
   "id": "db41706e-4c93-400c-97af-ca3833324068",
   "metadata": {},
   "outputs": [],
   "source": [
    "akkord1 = [0, 2, 4]\n",
    "for t in akkord1:\n",
    "    ton(t)\n",
    "spiele()"
   ]
  },
  {
   "cell_type": "markdown",
   "id": "97215658-e1e8-4c2e-9b53-9695833fd6ca",
   "metadata": {},
   "source": [
    "Hier benutzen wir eine Schleife, um die Einzeltöne aus `akkord1` abzuspielen. Die Variable `t` ist erst `0` dann `2` und dann `4`, genau wie die Töne im Akkord.\n",
    "\n",
    "Übrigens: Der Name `t` ist frei erfunden. Du kannst deine Variable auch anders nennen z.B. `meinton` oder `jsdf4jn2ds`. Achte nur darauf nicht mit Zahlen anzufangen, keine Sondernzeichen zu verwenden und nicht Namen zu verwenden, die es schon gibt, wie beispielweise `ton`."
   ]
  },
  {
   "cell_type": "markdown",
   "id": "f52fad44-55e3-40c1-9084-632ac23ca026",
   "metadata": {},
   "source": [
    "## Mission\n",
    "\n",
    "* Spiele deine drei Lieblingsakkorde aus der letzten Mission als Einzeltöne nacheinander.\n",
    "* **Abschluss:** Probiere ein kleines Lied zu programmieren!"
   ]
  },
  {
   "cell_type": "code",
   "execution_count": null,
   "id": "ef4ba05a-9fb4-4385-ad77-80b9cb611e46",
   "metadata": {},
   "outputs": [],
   "source": [
    "# Deine Musik kommt hier rein:\n"
   ]
  },
  {
   "cell_type": "code",
   "execution_count": null,
   "id": "d09a8ba3-dfd9-4e2e-bbd9-770472a7800d",
   "metadata": {},
   "outputs": [],
   "source": []
  }
 ],
 "metadata": {
  "kernelspec": {
   "display_name": "Python 3 (ipykernel)",
   "language": "python",
   "name": "python3"
  },
  "language_info": {
   "codemirror_mode": {
    "name": "ipython",
    "version": 3
   },
   "file_extension": ".py",
   "mimetype": "text/x-python",
   "name": "python",
   "nbconvert_exporter": "python",
   "pygments_lexer": "ipython3",
   "version": "3.12.11"
  }
 },
 "nbformat": 4,
 "nbformat_minor": 5
}
