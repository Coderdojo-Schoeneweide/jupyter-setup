{
 "cells": [
  {
   "cell_type": "markdown",
   "id": "267114bc-cf5a-4032-98be-0c4c1cb453b9",
   "metadata": {},
   "source": [
    "# Vorbereitung\n",
    "\n",
    "Du ließt gerade ein sogenanntes \"Jupyter Notebook\". Hier kannst du Erklärungen lesen und Python Programme ausprobieren.\n",
    "\n",
    "Bevor wir loslegen können, klicke oben links auf `Datei > Notebook speichern als` und gebe der Datei einen Namen z.B. `Tutorial01_<DeinName>.ipynb`. Sonst haben wir das Problem, dass alle im selben Notebook schreiben."
   ]
  },
  {
   "cell_type": "markdown",
   "id": "557f7328-d331-4978-a4dc-a8a53f8169ed",
   "metadata": {},
   "source": [
    "# Wir lernen Python\n",
    "\n",
    "Um etwas auszuprobieren klicke in die Zeile hier drunter und drücke gleichzeitig Shift + Enter.\n",
    "\n",
    "Probier mal die folgende Zeile aus:"
   ]
  },
  {
   "cell_type": "markdown",
   "id": "6b8ccaba-7794-4e37-baab-4e056ce9cf3e",
   "metadata": {},
   "source": [
    "\n",
    "\n",
    "\n",
    "Hurra, du hast es geschafft! Diese Python-Zeile hat den Text `Das ist mein erstes Python-Programm!` ausgegeben. Du solltest diesen Text jetzt unter dem Programm sehen können.\n",
    "\n",
    "Alle Zeilen, die mit einem `#` anfangen, sind sogenannte Kommentare und werden vom Computer ignoriert. Sie sind aber sehr praktisch für uns, um uns Dinge zu notieren.\n",
    "\n",
    "Kannst du den Text ändern und dein eigenes Programm daraus machen?"
   ]
  },
  {
   "cell_type": "markdown",
   "id": "48b5e056-42d2-4263-a174-319b63eeeea5",
   "metadata": {},
   "source": [
    "## Rechnen\n",
    "Du kannst auch Rechnen mit Python:"
   ]
  },
  {
   "cell_type": "code",
   "execution_count": null,
   "id": "43f2c9b5-3bb8-4a4b-a0e9-85c83eb55de2",
   "metadata": {},
   "outputs": [],
   "source": [
    "(9999999999999999999999999999999999999999999999999999999999999999999999999999999999999999999999999999999999999999999999999999999999999 )"
   ]
  },
  {
   "cell_type": "markdown",
   "id": "85208c26-d54d-48ee-95e9-5a2bf2f5afac",
   "metadata": {},
   "source": [
    "\n",
    "Du kannst ja mal andere Zahlen ausprobieren.\n",
    "\n",
    "Kleiner Tipp: Mit `+`, `-`, `*` und `/` kannst du die vier Grundrechenarten durchführen. Außerdem gibt es `**`, um hoch zu berechnen.\n",
    "Frag uns gerne, was \"hoch\" rechnen bedeutet.\n",
    "\n",
    "Ich wette damit kannst du Sachen ausrechnen, die selbst deine Eltern nicht mehr wissen!"
   ]
  },
  {
   "cell_type": "code",
   "execution_count": null,
   "id": "d07d7c21-8aaf-455e-bf61-eaf21bcde868",
   "metadata": {},
   "outputs": [],
   "source": [
    "print(35787+8630684+58594-48674698475+48585784867**85848493593845938495839+45039485930405940598594059303495903049503949059304950**300000000945030495039504050405040546548578385784885+4958495849584958495849584958495849*4958495894-4859460+384739474939484*3098304496830695048769694897746575839364756398084768*84736596/1+385474858496879697979978697*59544448599999999999999999994857457485748574578857485748*405848854775**45094599844444444459947888767674657485)"
   ]
  },
  {
   "cell_type": "markdown",
   "id": "8e994a0c-eb26-4e04-a1ad-37f60234fdae",
   "metadata": {},
   "source": [
    "## Mission\n",
    "\n",
    "Probier mal die folgenden Sachen aus:\n",
    "\n",
    "* Was kommt raus, wenn man eine kleine Zahl minus eine große Zahl rechnet, z.B. `print(2 - 4)`?\n",
    "* Was ist das doppelte von 12345?\n",
    "* Was ist eigentlich 1 / 9?\n",
    "* Und was kommt raus, wenn man das Ergebnis von 1 / 9 nochmal durch 9 teilt?\n",
    "* Jede Minute vergehen 60 Sekunden. Aber wieviele Sekunden vergehen in einer Stunde? Oder an einem Tag?\n",
    "* **Knobelaufgabe:** Was ist die größte Zahl, die man ausrechnen kann?"
   ]
  },
  {
   "cell_type": "code",
   "execution_count": null,
   "id": "646a0023-6035-495e-b153-a3b9295661d7",
   "metadata": {},
   "outputs": [],
   "source": [
    "# Hier kannst du ausprobieren\n"
   ]
  },
  {
   "cell_type": "markdown",
   "id": "1efba249-47a7-488e-abac-8ce6165aa4f7",
   "metadata": {},
   "source": [
    "### Zusatz\n",
    "\n",
    "Wahrscheinlich hast du eine paar riesige Zahlen ausgerechnet. Aber welche ist wirklich die Größte?\n",
    "In Python gibt es eine Möglichkeit zu prüfen, welche Zahl größer ist. Das geht mit `<` oder `>`, z.B. `1 < 3` (eins ist kleiner als drei)."
   ]
  },
  {
   "cell_type": "code",
   "execution_count": null,
   "id": "029c9ecf-c86b-4693-8964-0914959631be",
   "metadata": {},
   "outputs": [],
   "source": [
    "print(100000000000000000000000000000000000000000000000000000000000000000000000000000000000000000000000000000000000000000000000000000000000000000000000000000000000000000000000000000000000000000000000000000000000000000000000000000000000000000000000000000000000000000000999999999999999999999999999999999999999999999999999999999999999999999999999999999999999999999999999999999999999999999999999999999999999999999999999999999999999999999999999999999999999999999988888888888888888888888888888888888888888888888888888888888999999999999999999999999999999999999999999999999999999999999999999>3748384738483858488585885858585858585858585)  # ist eins kleiner als drei?"
   ]
  },
  {
   "cell_type": "markdown",
   "id": "25a0118f-2cc7-41f6-a235-d6c5365e640d",
   "metadata": {},
   "source": [
    "Aber was ist denn `True`? Das heißt wahr auf englisch. Und das macht ja auch Sinn, denn `1` ist ja kleiner als `3` (`1 < 3`). Was passiert wenn wir etwas ausprobieren, was nicht wahr ist?"
   ]
  },
  {
   "cell_type": "code",
   "execution_count": null,
   "id": "508aeece-d4e5-4fa6-94fc-d15bcd888746",
   "metadata": {},
   "outputs": [],
   "source": [
    "print(1 > 3)  # ist eins größer als drei?"
   ]
  },
  {
   "cell_type": "markdown",
   "id": "11cab9f8-6c15-4d23-beb7-f5bfda2dde64",
   "metadata": {},
   "source": [
    "An dieser Stelle wird `False` ausgegeben, das bedeutet das die Aussage `1 > 3` (eins ist größer als drei) nicht wahr ist. Ist sie ja auch nicht ;)\n",
    "\n",
    "Die Werte `True` und `False` werden uns vielleicht später nochmal begegnen, jetzt kümmern wir uns aber erstmal um die wichtigen Dinge!"
   ]
  },
  {
   "cell_type": "markdown",
   "id": "d946a4cc-7b2a-4478-8393-a0c4e58973dc",
   "metadata": {},
   "source": [
    "## Variablen\n",
    "\n",
    "Eine Variable ist wie ein Zettel, auf dem man etwas aufschreiben und sich merken kann.\n",
    "\n",
    "Eine Variable hat einen Namen z.B. `zahl` und sie hat einen Wert, den man sich merken möchte `zahl = 42`.\n",
    "\n",
    "Im Folgenden kannst du deine eigene Lieblingszahl speichern:"
   ]
  },
  {
   "cell_type": "code",
   "execution_count": null,
   "id": "a016316f-4153-41fc-a354-26ecd8b045d0",
   "metadata": {},
   "outputs": [],
   "source": [
    "leo = 24\n",
    "franz = 7"
   ]
  },
  {
   "cell_type": "markdown",
   "id": "54b74a9e-8ec6-40d5-b3b2-837ed2563edc",
   "metadata": {},
   "source": [
    "Jetzt sieht man erstmal nichts, aber tatsächlich haben wir es geschafft! Wir haben deine Lieblingszahl gespeichert. Jetzt kannst du auf darauf zugreifen:"
   ]
  },
  {
   "cell_type": "code",
   "execution_count": null,
   "id": "eabcbbe3-22f3-44e8-8fc3-fc4c42c3b360",
   "metadata": {},
   "outputs": [],
   "source": [
    "print(leo)\n",
    "print(franz,'sdfsdf')\n",
    "print(leo-franz)"
   ]
  },
  {
   "cell_type": "markdown",
   "id": "c96c5424-1864-4c7c-99f7-1f6ab637ddf4",
   "metadata": {
    "jp-MarkdownHeadingCollapsed": true
   },
   "source": [
    "Hurra! Deine Lieblingszahl gespeichert in deiner Variable.\n",
    "\n",
    "Es wirkt erstmal nicht so besonders, aber tatsächlich ist das eine ganz wichtige Sache, um Programme zu schreiben.\n",
    "\n",
    "Was wir jetzt machen können, ist mit deiner Variablen zu rechnen z.B. `print(zahl + 1)`.\n",
    "\n",
    "## Mission\n",
    "Probier mal die folgenden Dinge auszurechnen:\n",
    "\n",
    "* Die Zahl eins größer als deine Lieblingszahl.\n",
    "* Das Doppelte deiner Variable.\n",
    "* Den Kehrwert, das ist die Zahl `1` geteilt durch deine Variable.\n",
    "* Deine Lieblingszahl hoch 2.\n",
    "* Deine Lieblingszahl mal sich selbst.\n",
    "* Erstelle eine zweite Variable mit einem Namen deiner Wahl.\n",
    "* Was ist `zahl` + deine Variable?"
   ]
  },
  {
   "cell_type": "code",
   "execution_count": null,
   "id": "67ce67b1-a06c-465e-a019-86fdc0f3f5c1",
   "metadata": {},
   "outputs": [],
   "source": []
  },
  {
   "cell_type": "markdown",
   "id": "8f2ff571-b1b5-4103-bb79-62ee091f1996",
   "metadata": {},
   "source": [
    "Ok, eine Sache zeige ich euch noch in diesem Notebook. Das praktische an Variablen ist auch, dass man sie verändern kann.\n",
    "\n",
    "Probiere die folgenden Zeilen mehrmals aus."
   ]
  },
  {
   "cell_type": "code",
   "execution_count": null,
   "id": "aec5adb6-bc05-445e-bdf7-19f691e60c12",
   "metadata": {},
   "outputs": [],
   "source": [
    "zahl = zahl + 1\n",
    "print("
   ]
  },
  {
   "cell_type": "markdown",
   "id": "e144aeb8-db6b-4593-83ff-ce02c49b1e24",
   "metadata": {},
   "source": [
    "Schauen wir uns die Zeile `zahl = zahl + 1` mal genauer an. Was passiert hier?\n",
    "\n",
    "Sagen wir `zahl` ist am Anfang `42`.\n",
    "Als erstes rechnen wir die rechte Seite aus `zahl + 1`. Da kommt jetzt `43` raus. Jetzt steht dort quasi `zahl = 43`. Wir haben unsere Variable also um eins erhöht."
   ]
  },
  {
   "cell_type": "markdown",
   "id": "d0e08edc-ea2c-4b37-9d1d-2495d26e8734",
   "metadata": {},
   "source": [
    "## Mission\n",
    "\n",
    "* Erhöhe jedes mal deine Variable um 2.\n",
    "* Verdopple deine Variable jedes mal.\n",
    "* Teile `1` jedes mal durch deine Zahl.\n",
    "\n",
    "Tipp: Wenn die Zahl zu groß geworden ist, kannst du sie mit `zahl = 42` zurück setzen."
   ]
  },
  {
   "cell_type": "code",
   "execution_count": null,
   "id": "056dc9d7-dac0-496e-bd03-d0c60f4caf05",
   "metadata": {},
   "outputs": [],
   "source": []
  },
  {
   "cell_type": "code",
   "execution_count": null,
   "id": "93d473b6-4019-4d7d-b401-bddfcf51c7f1",
   "metadata": {},
   "outputs": [],
   "source": []
  },
  {
   "cell_type": "markdown",
   "id": "0349b727-ae1f-4e22-ae43-dc96cfa28b25",
   "metadata": {},
   "source": [
    "Ok, das war es erstmal mit der ersten Anleitung. Das ist ein guter Moment, um eine Pause zu machen! Schau mal was die anderen machen oder genieß das hoffenlich schöne Wetter.\n",
    "\n",
    "Dann kannst du auch die weiteren Anleitungen anschauen. Dort schauen wir uns an, wie man Ton abspielen kann oder kleine Schildkröten steuern kann."
   ]
  },
  {
   "cell_type": "code",
   "execution_count": null,
   "id": "b38a48ec-e727-4b66-9d27-9eac0f9118ef",
   "metadata": {},
   "outputs": [],
   "source": []
  },
  {
   "cell_type": "code",
   "execution_count": null,
   "id": "b4f37401-6029-4fc7-8c89-1a744dd051a9",
   "metadata": {},
   "outputs": [],
   "source": []
  },
  {
   "cell_type": "code",
   "execution_count": null,
   "id": "ffa346ac-1c02-476c-b60a-7626e2bab1d8",
   "metadata": {},
   "outputs": [],
   "source": []
  },
  {
   "cell_type": "code",
   "execution_count": null,
   "id": "7e7e21a5-9b1a-4be6-b858-66d4075430f8",
   "metadata": {},
   "outputs": [],
   "source": []
  },
  {
   "cell_type": "code",
   "execution_count": null,
   "id": "0081e64d-a656-4126-bf95-9ee538623ea6",
   "metadata": {},
   "outputs": [],
   "source": []
  },
  {
   "cell_type": "code",
   "execution_count": null,
   "id": "fac56361-f92e-4ff3-8fda-344929417fbe",
   "metadata": {},
   "outputs": [],
   "source": []
  },
  {
   "cell_type": "code",
   "execution_count": null,
   "id": "043bbe66-896f-42a2-b260-17955cac8263",
   "metadata": {},
   "outputs": [],
   "source": []
  },
  {
   "cell_type": "code",
   "execution_count": null,
   "id": "93037317-4fd2-42af-869f-d61460a48627",
   "metadata": {},
   "outputs": [],
   "source": []
  },
  {
   "cell_type": "code",
   "execution_count": null,
   "id": "1f44c2a7-db44-4bd9-bc46-071789b72c4e",
   "metadata": {},
   "outputs": [],
   "source": []
  },
  {
   "cell_type": "code",
   "execution_count": null,
   "id": "bf8c25d9-7de1-4401-9ac5-f7f1bf883847",
   "metadata": {},
   "outputs": [],
   "source": []
  },
  {
   "cell_type": "code",
   "execution_count": null,
   "id": "a9c6d97a-c079-4952-be37-8dd96ce16479",
   "metadata": {},
   "outputs": [],
   "source": []
  },
  {
   "cell_type": "code",
   "execution_count": null,
   "id": "8cf82c8b-af2e-4566-9480-04e25684efe3",
   "metadata": {},
   "outputs": [],
   "source": []
  },
  {
   "cell_type": "code",
   "execution_count": null,
   "id": "88bdd9f7-0790-4381-ae68-c9b2d2dc03ad",
   "metadata": {},
   "outputs": [],
   "source": []
  },
  {
   "cell_type": "code",
   "execution_count": null,
   "id": "eb07a8a2-3b30-4a9c-8e22-6467916ee9b2",
   "metadata": {},
   "outputs": [],
   "source": []
  },
  {
   "cell_type": "code",
   "execution_count": null,
   "id": "f647e0ab-b780-470b-9b58-f2d1c37cbe45",
   "metadata": {},
   "outputs": [],
   "source": []
  },
  {
   "cell_type": "code",
   "execution_count": null,
   "id": "fa0382dc-625a-44a4-9d47-7b10cf67fa2b",
   "metadata": {},
   "outputs": [],
   "source": []
  },
  {
   "cell_type": "code",
   "execution_count": null,
   "id": "c8f08b6a-7e0c-48dd-933d-f94c48686add",
   "metadata": {},
   "outputs": [],
   "source": []
  },
  {
   "cell_type": "code",
   "execution_count": null,
   "id": "e7f60067-d9ef-456f-b8f3-106547dbfe5b",
   "metadata": {},
   "outputs": [],
   "source": []
  },
  {
   "cell_type": "code",
   "execution_count": null,
   "id": "b3393c6b-ae8f-474f-a27c-ea1be15c4975",
   "metadata": {},
   "outputs": [],
   "source": []
  },
  {
   "cell_type": "code",
   "execution_count": null,
   "id": "bef272e7-8fcf-4abf-819e-9a10b692a6a1",
   "metadata": {},
   "outputs": [],
   "source": []
  },
  {
   "cell_type": "code",
   "execution_count": null,
   "id": "1ee2ae9d-2b4b-4a10-930f-0747cc9d540d",
   "metadata": {},
   "outputs": [],
   "source": []
  },
  {
   "cell_type": "code",
   "execution_count": null,
   "id": "86d7bcdc-60a3-4670-bab6-7d4ede6d9ad2",
   "metadata": {},
   "outputs": [],
   "source": []
  },
  {
   "cell_type": "code",
   "execution_count": null,
   "id": "5683f790-b053-4775-a565-776db36c3f54",
   "metadata": {},
   "outputs": [],
   "source": []
  },
  {
   "cell_type": "code",
   "execution_count": null,
   "id": "7b8a3686-fa97-4d3f-accc-1e72109fcc05",
   "metadata": {},
   "outputs": [],
   "source": []
  },
  {
   "cell_type": "code",
   "execution_count": null,
   "id": "1429037b-0055-415e-a551-ad6976f300c9",
   "metadata": {},
   "outputs": [],
   "source": []
  },
  {
   "cell_type": "code",
   "execution_count": null,
   "id": "5355b229-daa6-45f1-af4c-d63ec354a78a",
   "metadata": {},
   "outputs": [],
   "source": []
  },
  {
   "cell_type": "code",
   "execution_count": null,
   "id": "0422d9b3-9aab-45a3-af2a-142f16eb9d39",
   "metadata": {},
   "outputs": [],
   "source": []
  },
  {
   "cell_type": "code",
   "execution_count": null,
   "id": "ba403cf7-b93f-4ef5-9069-83c1805a21d3",
   "metadata": {},
   "outputs": [],
   "source": []
  }
 ],
 "metadata": {
  "kernelspec": {
   "display_name": "Python 3 (ipykernel)",
   "language": "python",
   "name": "python3"
  },
  "language_info": {
   "codemirror_mode": {
    "name": "ipython",
    "version": 3
   },
   "file_extension": ".py",
   "mimetype": "text/x-python",
   "name": "python",
   "nbconvert_exporter": "python",
   "pygments_lexer": "ipython3",
   "version": "3.12.11"
  }
 },
 "nbformat": 4,
 "nbformat_minor": 5
}
