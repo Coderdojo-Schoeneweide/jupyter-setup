{
 "cells": [
  {
   "cell_type": "code",
   "execution_count": null,
   "id": "fa99a88a",
   "metadata": {},
   "outputs": [],
   "source": [
    "# Diese Zelle zeigt ein Bild an. \n",
    "from IPython.display import Image\n",
    "Image(filename='robots.png', width=300, height=300)"
   ]
  },
  {
   "cell_type": "markdown",
   "id": "3a7320ae",
   "metadata": {},
   "source": [
    "# Malen mit Robotern\n",
    "\n",
    "Hier lernen wir, wie man mit Python zeichnen kann. Dabei helfen uns kleine Roboter, die mit einem Pinsel über eine weiße Fläche fahren und so Bilder malen.\n",
    "Aber leider bewegen sich die Roboter nicht von alleine. Wir müssen sie steuern.\n",
    "\n",
    "Das können wir, indem wir den Robotern Befehle geben.\n",
    "Die wichtigsten Befehle sind:\n",
    "\n",
    "- **vorwaerts(#Schritte)** <br>\n",
    "    - Mit diesem Befehl bewegt sich der Roboter um die Anzahl an Schritten nach vorne, die wir ihm sagen. Dabei zeichnet er seinen Weg auf den Bildschirm\n",
    "\n",
    "- **links(#Grad)** <br>\n",
    "    - Mit diesem Befehl dreht sich der Roboter um die Gradzahl nach links, die wir ihm sagen. \n",
    "    - Eine perfekte Drehung nach links sind 90 Grad: `links(90)` \n",
    "    - Eine Drehung nach hinten sind 180 Grad: `links(180)`. \n",
    "    - Eine komplette Drehung sind 360 Grad. Bei `links(360)` dreht sich der Roboter einmal um seine Achse und schaut wieder genau dort hin wo er auch zuvor hingeschaut hat.   \n",
    "\n",
    "- **rechts(#Grad)** <br>\n",
    "    - Dieser Befehl ist genauso wie links(), nur dass sich nun der Roboter nach *rechts* dreht.\n",
    "\n",
    "Am besten probieren wir es einfach direkt aus!"
   ]
  },
  {
   "cell_type": "markdown",
   "id": "80ff9327",
   "metadata": {},
   "source": [
    "## Teil 1: Steuere Robo!"
   ]
  },
  {
   "cell_type": "code",
   "execution_count": null,
   "id": "6fcb0fef",
   "metadata": {},
   "outputs": [],
   "source": [
    "from roboter import Roboter\n",
    "\n",
    "# Mit der nächsten Zeile rufen wir den Roboter zum Leben:\n",
    "robo = Roboter()\n",
    "\n",
    "print(\"Hallo, ich bin Robo!\")\n",
    "print(\"Ich kann mich bewegen und dabei malen. Wenn du mich steuerst, werde ich dir folgen.\")\n",
    "print(\"Ich kenne Befehle wie vorwaerts, links, rechts und viele mehr.\")"
   ]
  },
  {
   "cell_type": "markdown",
   "id": "537360cd",
   "metadata": {},
   "source": [
    "Jetzt bist du dran! \n",
    "\n",
    "Steuere Robo, indem du die folgenden Befehle ausführst. Was passiert wenn du die Zahlen änderst?"
   ]
  },
  {
   "cell_type": "code",
   "execution_count": null,
   "id": "5adb5f96",
   "metadata": {},
   "outputs": [],
   "source": [
    "# Robo soll sich um #Schritte nach vorne bewegen\n",
    "robo.vorwaerts(60)"
   ]
  },
  {
   "cell_type": "code",
   "execution_count": null,
   "id": "0b56f549",
   "metadata": {},
   "outputs": [],
   "source": [
    "# Robo soll sich um #Grad nach links drehen\n",
    "robo.links(90)"
   ]
  },
  {
   "cell_type": "code",
   "execution_count": null,
   "id": "966d40b0",
   "metadata": {},
   "outputs": [],
   "source": [
    "# Robo soll sich um #Grad nach rechts drehen\n",
    "robo.rechts(45)"
   ]
  },
  {
   "cell_type": "code",
   "execution_count": null,
   "id": "7509b560",
   "metadata": {},
   "outputs": [],
   "source": [
    "# Mit diesem Befehlt springt der Roboter an eine bestimmte Position auf dem Bildschirm (ohne zu malen). \n",
    "# Die erste Zahl ist die Breite (x), die zweite Zahl die Höhe (y). Mitte des Bildschirms ist bei x = 150, y = 75.\n",
    "robo.sprung_zu(150, 75)"
   ]
  },
  {
   "cell_type": "code",
   "execution_count": null,
   "id": "b7371d0f",
   "metadata": {},
   "outputs": [],
   "source": [
    "# Mit diesem Befehlt geht der Roboter an eine bestimmte Position auf dem Bildschirm, und malt dabei. \n",
    "# Die erste Zahl ist die Breite (x), die zweite Zahl die Höhe (y). Mitte des Bildschirms ist bei x = 150, y = 75.\n",
    "robo.gehe_zu(150, 75)"
   ]
  },
  {
   "cell_type": "code",
   "execution_count": null,
   "id": "7355988d",
   "metadata": {},
   "outputs": [],
   "source": [
    "# Wir können Robo bitten, uns zu sagen, wo er sich gerade befindet:\n",
    "print(\"Ich bin an der Position x =\", robo.x, \"y =\", robo.y)"
   ]
  },
  {
   "cell_type": "markdown",
   "id": "a08aa190",
   "metadata": {},
   "source": [
    "Wie ihr vielleicht schon gemerkt habt, kann der Roboter aus dem Bildschirm rausfahren, wenn wir nicht aufpassen. Dann sehen wir ihn nicht mehr, und es wird schwierig ihn zu steuern. Hier erklären wir, warum das passiert und was wir tun können um den Roboter zurückzubringen. \n",
    "\n",
    "*Achtung: Jetzt kommt etwas kompliziertes! Wenn ihr das nicht versteht, ist es nicht schlimm. Ihr könnt das auch erstmal überspringen.* \n",
    "\n",
    "Man kann eine Position auf dem Bildschirm mit zwei Zahlen beschreiben: \n",
    "  - Der Breite - dazu sagen wir auch `x`\n",
    "  - Der Höhe - dazu sagen wir auch `y`"
   ]
  },
  {
   "cell_type": "markdown",
   "id": "a0115bf8",
   "metadata": {},
   "source": [
    "Der Bildschirm ist 300 Schritte breit und 150 Schritte hoch. \n",
    "  - Der Punkt x = 0, y = 0 liegt in der linken oberen Ecke. \n",
    "  - Der Punkt x = 300, y = 0 liegt in der rechten oberen Ecke.\n",
    "  - Der Punkt x = 300, y = 150 liegt in der rechten unteren Ecke.\n",
    "  - Der Punkte x = 0, y = 150 liegt in der linken unteren Ecke. \n",
    "\n",
    "Puh, Das ist alles erstmal sehr viel! Keine Sorge, wir müssen es nicht unbedingt verstehen. \n",
    "\n",
    "**Das wichtige für uns ist, zu wissen dass der Mittelpunkt des Bildschirms bei x = 150, y = 75 liegt.** \n",
    "\n",
    "Wir können den Roboter mit diesem zwei Befehlen auf eine bestimmte Position bewegen: \n",
    "- **sprung_zu(x, y)** <br>\n",
    "    - Bei diesem Befehl springt der Roboter zu einem Punkt auf dem Bildschirm, den du angibst, ohne dabei zu malen. Dafür musst du ihm zwei Zahlen sagen: \n",
    "      - x: Das ist die Breite des Bildschirms. Die Zahl darf nur zwischen 0 und 300 liegen. \n",
    "      - y: Das ist die Höhe des Bildschirms. Die Zahl darf nur zwischen 0 und 150 liegen.\n",
    "\n",
    "- **gehe_zu(x, y)** <br>\n",
    "    - Bei diesem Befehl geht der Roboter zu einem Punkt auf dem Bildschirm, den du angibst, und malt dabei mit dem Pinsel. Dafür musst du ihm zwei Zahlen sagen: \n",
    "      - x: Das ist die Breite des Bildschirms. Die Zahl darf nur zwischen 0 und 300 liegen. \n",
    "      - y: Das ist die Höhe des Bildschirms. Die Zahl darf nur zwischen 0 und 150 liegen.\n"
   ]
  },
  {
   "cell_type": "markdown",
   "id": "1c1ae04e",
   "metadata": {},
   "source": [
    "## Teil 2: Kombiniere Befehle\n",
    "\n",
    "So weit so gut. Bisher haben wir Robo immer nur einen Befehl einzelnd übergeben. Jetzt wollen wir mehrere Befehle kombinieren. \n",
    "\n",
    "Dafür erzeugen wir einen neuen Roboter mit dem Namen Robi: "
   ]
  },
  {
   "cell_type": "code",
   "execution_count": null,
   "id": "b043848c",
   "metadata": {},
   "outputs": [],
   "source": [
    "# Mit der nächsten Zeile rufen wir einen neuen Roboter zum Leben. Wir geben ihm den Namen Robi, damit wir ihn nicht mit Robo verwechseln:\n",
    "robi = Roboter()"
   ]
  },
  {
   "cell_type": "code",
   "execution_count": null,
   "id": "bd01d97b",
   "metadata": {},
   "outputs": [],
   "source": [
    "# Jetzt kombinieren wir mehrere Befehle. Zum Beispile kann ich eine 1 malen:\n",
    "\n",
    "robi.links(90) # Robi dreht sich um 90 Grad nach links\n",
    "robi.vorwaerts(30) # Robi geht 30 Schritte vorwärts\n",
    "robi.links(135) # Robi dreht sich um 135 Grad nach links\n",
    "robi.vorwaerts(10) # Robi geht 10 Schritte vorwärts\n",
    "robi.sprung_zu(150, 75) # Robi springt an die Position (150, 75) ohne zu malen. Das ist die Mitte des Bildschirms."
   ]
  },
  {
   "cell_type": "markdown",
   "id": "deb86436",
   "metadata": {},
   "source": [
    "Jetzt bist du dran! Kombiniere Befehle in der nächsten Zelle und schaue was passiert."
   ]
  },
  {
   "cell_type": "code",
   "execution_count": null,
   "id": "319bd755",
   "metadata": {},
   "outputs": [],
   "source": [
    "# Kombiniere Befehle:\n"
   ]
  },
  {
   "cell_type": "markdown",
   "id": "54057f1c",
   "metadata": {},
   "source": [
    "## Teil 3: For-Schleifen machen das Programmieren einfacher\n",
    "\n",
    "Prima, wir sind schon sehr weit gekommen. Jetzt versuchen wir mal ein Viereck zu malen."
   ]
  },
  {
   "cell_type": "code",
   "execution_count": null,
   "id": "f6887422",
   "metadata": {},
   "outputs": [],
   "source": [
    "# Mit der nächsten Zeile rufen wir einen neuen Roboter zum Leben. Wir geben ihm den Namen Robert, damit wir ihn nicht mit Robo und Robi verwechseln:\n",
    "robert = Roboter()\n",
    "\n",
    "# Jetzt lassen wir Robert ein Viereck malen. Dafür kombinieren wir mehrere Befehle:\n",
    "# 1. Kante\n",
    "robert.vorwaerts(30)  # gehe 30 Schritte vorwärts\n",
    "robert.links(90)      # drehe 90 Grad nach links\n",
    "# 2. Kante\n",
    "robert.vorwaerts(30)  # gehe 30 Schritte vorwärts\n",
    "robert.links(90)      # drehe 90 Grad nach links\n",
    "# 3. Kante\n",
    "robert.vorwaerts(30)  # gehe 30 Schritte vorwärts\n",
    "robert.links(90)      # drehe 90 Grad nach links\n",
    "# 4. Kante\n",
    "robert.vorwaerts(30)  # gehe 30 Schritte vorwärts\n",
    "robert.links(90)      # drehe 90 Grad nach links"
   ]
  },
  {
   "cell_type": "markdown",
   "id": "04f60ef8",
   "metadata": {},
   "source": [
    "Das können wir auch kürzer schreiben! Erinnert ihr euch an Schleifen?\n",
    "Mit einer For-Schleife können wir den gleichen Befehl mehrmals wiederholen, ohne ihn zu wiederholen. \n",
    "\n",
    "Hier wollen wir die Befehle vorwärts und links insgesamt viermal wiederholen. Es soll ja ein VIEReck werden!"
   ]
  },
  {
   "cell_type": "code",
   "execution_count": null,
   "id": "3dd5c80c",
   "metadata": {},
   "outputs": [],
   "source": [
    "# Robi soll viermal vorwärts gehen und sich dann um 90 Grad nach links drehen.\n",
    "for i in range(4):\n",
    "    robert.vorwaerts(30)\n",
    "    robert.links(90)"
   ]
  },
  {
   "cell_type": "markdown",
   "id": "c8e96ad9",
   "metadata": {},
   "source": [
    "Prima! Wir können noch viele weitere Formen so zeichnen: "
   ]
  },
  {
   "cell_type": "code",
   "execution_count": null,
   "id": "2091847b",
   "metadata": {},
   "outputs": [],
   "source": [
    "# Dreieck\n",
    "for i in range(3):\n",
    "    robert.vorwaerts(30)\n",
    "    robert.links(120)"
   ]
  },
  {
   "cell_type": "code",
   "execution_count": null,
   "id": "b6b8b66f",
   "metadata": {},
   "outputs": [],
   "source": [
    "# Fünfeck\n",
    "for i in range(5):\n",
    "    robert.vorwaerts(30)\n",
    "    robert.links(72)"
   ]
  },
  {
   "cell_type": "code",
   "execution_count": null,
   "id": "f3fc2b25",
   "metadata": {},
   "outputs": [],
   "source": [
    "# Sechseck\n",
    "for i in range(6):\n",
    "    robert.vorwaerts(30)\n",
    "    robert.links(60)"
   ]
  },
  {
   "cell_type": "markdown",
   "id": "4a2cc430",
   "metadata": {},
   "source": [
    "Jetzt bist du dran! Du kannst einen Roboter mit einem Namen deiner Wahl erstellen und ihm Befehle geben:"
   ]
  },
  {
   "cell_type": "code",
   "execution_count": null,
   "id": "10a6c35d",
   "metadata": {},
   "outputs": [],
   "source": [
    "# Du bist dran! Du kannst einen Roboter mit einem Namen deiner Wahl erstellen und ihm Befehle geben. \n",
    "# Benenne deinen Roboter\n",
    "dein_name = Roboter()\n",
    "\n",
    "# deine Befehle\n",
    "dein_name.vorwaerts(0)"
   ]
  },
  {
   "cell_type": "markdown",
   "id": "1b39add2",
   "metadata": {
    "jp-MarkdownHeadingCollapsed": true
   },
   "source": [
    "# Bonus: Funktionen \n",
    "\n",
    "Wow, wenn du es bis hierhin geschafft hast, dann warst du ganz schön schnell! Falls du Lust hast noch  mehr zu lernen dann kannst du hier weitermachen und über Funktionen lernen.\n",
    "\n",
    "Weißt du noch, wie wir Schleifen benutzt haben?\n",
    "Mit einer Schleife kann der Roboter immer wieder das Gleiche machen, ohne dass wir es jedes Mal neu tippen müssen.\n",
    "\n",
    "**Und was sind Funktionen?**\n",
    "\n",
    "Stell dir vor, du bringst dem Roboter bei, ein Viereck zu malen mit einem Zauberspruch. Dann musst du ihm nicht jedes Mal wieder alle Schritte sagen (‘vorwärts, drehen, vorwärts, drehen …’), sondern du kannst ihm einen Namen dafür geben, z. B. „viereck“.\n",
    "\n",
    "Eine Funktion ist wie ein neuer Zauberspruch, den du selbst erfindest und dem du einen Namen gibst.\n",
    "Danach reicht es wenn du den Zauberspruch aufsagst, und der Roboter weiß, was er tun soll."
   ]
  },
  {
   "cell_type": "code",
   "execution_count": null,
   "id": "d4b694b5",
   "metadata": {},
   "outputs": [],
   "source": [
    "# Mit der nächsten Zeile rufen wir einen neuen Roboter zum Leben. Wir geben ihm den Namen Robito, damit wir ihn nicht mit Robo, Robi und Robert verwechseln:\n",
    "Robito = Roboter()\n",
    "\n",
    "# Jetzt definieren wir Funktionen, die wir später verwenden können, um verschiedene Formen zu zeichnen. Zum Beispiel ein Viereck:\n",
    "def male_viereck(roboter, laenge):\n",
    "    ''' \n",
    "    Diese Funktion malt ein Viereck mit der angegebenen Seitenlänge mit dem gegebenen Roboter.\n",
    "\n",
    "    Input:\n",
    "    roboter: Ein Roboter-Objekt, das die Befehle ausführen kann\n",
    "    laenge: Die Länge der Seiten des Vierecks\n",
    "    '''\n",
    "    for i in range(4):\n",
    "        roboter.vorwaerts(laenge)\n",
    "        roboter.links(90)\n",
    "\n",
    "# Oder ein Dreieck:\n",
    "def male_dreieck(roboter, laenge):\n",
    "    ''' \n",
    "    Diese Funktion malt ein Dreieck mit der angegebenen Seitenlänge mit dem gegebenen Roboter.\n",
    "    Input:\n",
    "    roboter: Ein Roboter-Objekt, das die Befehle ausführen kann\n",
    "    laenge: Die Länge der Seiten des Dreiecks'''\n",
    "    for i in range(3):\n",
    "        roboter.vorwaerts(laenge)\n",
    "        roboter.links(120)"
   ]
  },
  {
   "cell_type": "markdown",
   "id": "4971d5a2",
   "metadata": {},
   "source": [
    "Jetzt können wir die Funktionen (die Zaubersprüche) verwenden um die Formen zu malen. Dafür müssen wir den Zauberspruch aufrufen und die richtigen Zauberwörter sagen."
   ]
  },
  {
   "cell_type": "code",
   "execution_count": null,
   "id": "6c98c6a9",
   "metadata": {},
   "outputs": [],
   "source": [
    "# Der Zauberspruch heißt male_viereck. Damit er aber funktioniert, müssen wir ihm noch zwei Zauberwörter sagen.\n",
    "# Das erste Zauberwort ist \"Robito\", da wir der Funktion sagen müssen, welcher Roboter die Funktion ausführen soll.\n",
    "# Das zweite Zauberwort ist die Seitenlänge des Vierecks/Dreiecks, das wir zeichen wollen. \n",
    "male_viereck(Robito, 30)  # Zeichne ein Viereck mit Seitenlängen von 30\n",
    "male_dreieck(Robito, 30)  # Zeichne ein Dreieck"
   ]
  },
  {
   "cell_type": "markdown",
   "id": "7d5e57d8",
   "metadata": {},
   "source": [
    "Wir können Funktionen auch in größeren Funktionen kombinieren. Beispielsweise können wir ein Haus damit zeichnen: "
   ]
  },
  {
   "cell_type": "code",
   "execution_count": null,
   "id": "3064c046",
   "metadata": {},
   "outputs": [],
   "source": [
    "# Mit der nächsten Zeile rufen wir einen neuen Roboter zum Leben. Wir geben ihm den Namen Robito, damit wir ihn nicht mit Robo, Robi, Robert und Robito verwechseln:\n",
    "Robertus = Roboter()\n",
    "\n",
    "def male_haus(roboter, laenge):\n",
    "    ''' \n",
    "    Diese Funktion malt ein einfaches Haus mit dem gegebenen Roboter.\n",
    "    Input:\n",
    "    roboter: Ein Roboter-Objekt, das die Befehle ausführen kann\n",
    "    laenge: Die Länge der Seiten des Hauses\n",
    "    '''\n",
    "    # male das Grundgerüst des Hauses\n",
    "    male_viereck(roboter, laenge)  \n",
    "\n",
    "    #setze den Roboter auf die Spitze des Hauses\n",
    "    roboter.sprung_zu(roboter.x, roboter.y - laenge)\n",
    "\n",
    "    # male das Dach\n",
    "    male_dreieck(roboter, laenge)\n",
    "\n",
    "male_haus(Robertus, 30)  # Zeichne ein Haus mit Seitenlängen von 30"
   ]
  },
  {
   "cell_type": "markdown",
   "id": "fff00300",
   "metadata": {},
   "source": [
    "# ENDE\n",
    "Prima, ihr habt es bis zum Ende geschafft! Hier noch ein Beispiel, was man alles mit den Robotern machen kann. Zum Beispiel einen Schneeman malen: "
   ]
  },
  {
   "cell_type": "code",
   "execution_count": null,
   "id": "e8aa0811",
   "metadata": {},
   "outputs": [],
   "source": [
    "# Schneemann zeichnen\n",
    "frosty = Roboter(animate=False)\n",
    "\n",
    "def male_kreis(roboter, radius):\n",
    "    ''' \n",
    "    Diese Funktion malt einen Kreis mit dem gegebenen Roboter.\n",
    "    Input:Ein Roboter-Objekt, das die Befehle ausführen kann\n",
    "    radius: Der Radius des Kreises\n",
    "    '''\n",
    "    for i in range(36):  # 36 Schritte für einen vollständigen Kreis\n",
    "        roboter.vorwaerts(radius * 0.174)  # 10 Schritte vorwärts (ungefähr)\n",
    "        roboter.links(10)  # 10 Grad nach links drehen\n",
    "\n",
    "# erste Kugel\n",
    "frosty.sprung_zu(150, 149)\n",
    "male_kreis(frosty, 30)  # Zeichne den Kopf des Schneemanns\n",
    "\n",
    "# zweite Kugel\n",
    "frosty.sprung_zu(150, 90)\n",
    "male_kreis(frosty, 23)  # Zeichne den Körper des Schneemanns\n",
    "\n",
    "# dritte Kugel\n",
    "frosty.sprung_zu(150, 45)\n",
    "male_kreis(frosty, 13)  # Zeichne die Basis des Schneemanns\n",
    "\n",
    "# Augen zeichnen\n",
    "frosty.sprung_zu(146, 32)\n",
    "male_kreis(frosty, 1)  # Linkes Auge\n",
    "frosty.sprung_zu(156, 32)\n",
    "male_kreis(frosty, 1)  # Rechtes Auge\n",
    "\n",
    "# Mund zeichnen\n",
    "frosty.sprung_zu(146, 40)\n",
    "frosty.vorwaerts(10)  \n",
    "\n",
    "# Hut zeichnen\n",
    "frosty.sprung_zu(144, 18)\n",
    "male_viereck(frosty, 14)  \n",
    "frosty.sprung_zu(135, 18)\n",
    "frosty.vorwaerts(30)  \n",
    "\n",
    "# Arm links\n",
    "frosty.sprung_zu(130, 60)\n",
    "frosty.gehe_zu(110, 70)  \n",
    "\n",
    "# Arm rechts\n",
    "frosty.sprung_zu(173, 60)\n",
    "frosty.gehe_zu(190, 70)\n",
    "\n",
    "frosty.zeichne()"
   ]
  },
  {
   "cell_type": "code",
   "execution_count": null,
   "id": "1e348e09-154a-4301-9da8-ba320937934d",
   "metadata": {},
   "outputs": [],
   "source": []
  }
 ],
 "metadata": {
  "kernelspec": {
   "display_name": "Python 3 (ipykernel)",
   "language": "python",
   "name": "python3"
  },
  "language_info": {
   "codemirror_mode": {
    "name": "ipython",
    "version": 3
   },
   "file_extension": ".py",
   "mimetype": "text/x-python",
   "name": "python",
   "nbconvert_exporter": "python",
   "pygments_lexer": "ipython3",
   "version": "3.12.11"
  }
 },
 "nbformat": 4,
 "nbformat_minor": 5
}
