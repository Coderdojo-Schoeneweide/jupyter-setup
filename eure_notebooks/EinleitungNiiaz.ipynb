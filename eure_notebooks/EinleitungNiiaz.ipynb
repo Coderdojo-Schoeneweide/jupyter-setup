{
 "cells": [
  {
   "cell_type": "markdown",
   "id": "267114bc-cf5a-4032-98be-0c4c1cb453b9",
   "metadata": {},
   "source": [
    "# Vorbereitung\n",
    "\n",
    "Du ließt gerade ein sogenanntes \"Jupyter Notebook\". Hier kannst du Erklärungen lesen und Python Programme ausprobieren.\n",
    "\n",
    "Bevor wir loslegen können, klicke oben links auf `Datei > Notebook speichern als` und gebe der Datei einen Namen z.B. `Tutorial01_<DeinName>.ipynb`. Sonst haben wir das Problem, dass alle im selben Notebook schreiben."
   ]
  },
  {
   "cell_type": "markdown",
   "id": "557f7328-d331-4978-a4dc-a8a53f8169ed",
   "metadata": {},
   "source": [
    "# Wir lernen Python\n",
    "\n",
    "Um etwas auszuprobieren klicke in die Zeile hier drunter und drücke gleichzeitig Shift + Enter.\n",
    "\n",
    "Probier mal die folgende Zeile aus:"
   ]
  },
  {
   "cell_type": "code",
   "execution_count": null,
   "id": "f967e4f6-aef6-47df-b817-640f5ce27a27",
   "metadata": {},
   "outputs": [],
   "source": [
    "# Hier klicken und dann Shift + Enter drücken.\n",
    "print(\"\")"
   ]
  },
  {
   "cell_type": "markdown",
   "id": "6b8ccaba-7794-4e37-baab-4e056ce9cf3e",
   "metadata": {},
   "source": [
    "Hurra, du hast es geschafft! Diese Python-Zeile hat den Text `Das ist mein erstes Python-Programm!` ausgegeben. Du solltest diesen Text jetzt unter dem Programm sehen können.\n",
    "\n",
    "Alle Zeilen, die mit einem `#` anfangen, sind sogenannte Kommentare und werden vom Computer ignoriert. Sie sind aber sehr praktisch für uns, um uns Dinge zu notieren.\n",
    "\n",
    "Kannst du den Text ändern und dein eigenes Programm daraus machen?"
   ]
  },
  {
   "cell_type": "markdown",
   "id": "48b5e056-42d2-4263-a174-319b63eeeea5",
   "metadata": {},
   "source": [
    "## Rechnen\n",
    "Du kannst auch Rechnen mit Python:"
   ]
  },
  {
   "cell_type": "code",
   "execution_count": null,
   "id": "43f2c9b5-3bb8-4a4b-a0e9-85c83eb55de2",
   "metadata": {},
   "outputs": [],
   "source": [
    "print(7777777-7777333)"
   ]
  },
  {
   "cell_type": "markdown",
   "id": "85208c26-d54d-48ee-95e9-5a2bf2f5afac",
   "metadata": {},
   "source": [
    "Du kannst ja mal andere Zahlen ausprobieren.\n",
    "\n",
    "Kleiner Tipp: Mit `+`, `-`, `*` und `/` kannst du die vier Grundrechenarten durchführen. Außerdem gibt es `**`, um hoch zu berechnen.\n",
    "Frag uns gerne, was \"hoch\" rechnen bedeutet.\n",
    "\n",
    "Ich wette damit kannst du Sachen ausrechnen, die selbst deine Eltern nicht mehr wissen!"
   ]
  },
  {
   "cell_type": "code",
   "execution_count": null,
   "id": "d07d7c21-8aaf-455e-bf61-eaf21bcde868",
   "metadata": {},
   "outputs": [],
   "source": [
    "print(86400*365)"
   ]
  },
  {
   "cell_type": "markdown",
   "id": "8e994a0c-eb26-4e04-a1ad-37f60234fdae",
   "metadata": {},
   "source": [
    "## Mission\n",
    "\n",
    "Probier mal die folgenden Sachen aus:\n",
    "\n",
    "* Was kommt raus, wenn man eine kleine Zahl minus eine große Zahl rechnet, z.B. `print(2 - 4)`?\n",
    "* Was ist das doppelte von 12345?\n",
    "* Was ist eigentlich 1 / 9?\n",
    "* Und was kommt raus, wenn man das Ergebnis von 1 / 9 nochmal durch 9 teilt?\n",
    "* Jede Minute vergehen 60 Sekunden. Aber wieviele Sekunden vergehen in einer Stunde? Oder an einem Tag?\n",
    "* **Knobelaufgabe:** Was ist die größte Zahl, die man ausrechnen kann?"
   ]
  },
  {
   "cell_type": "code",
   "execution_count": null,
   "id": "646a0023-6035-495e-b153-a3b9295661d7",
   "metadata": {},
   "outputs": [],
   "source": [
    "print\n"
   ]
  },
  {
   "cell_type": "markdown",
   "id": "1efba249-47a7-488e-abac-8ce6165aa4f7",
   "metadata": {},
   "source": [
    "### Zusatz\n",
    "\n",
    "Wahrscheinlich hast du eine paar riesige Zahlen ausgerechnet. Aber welche ist wirklich die Größte?\n",
    "In Python gibt es eine Möglichkeit zu prüfen, welche Zahl größer ist. Das geht mit `<` oder `>`, z.B. `1 < 3` (eins ist kleiner als drei)."
   ]
  },
  {
   "cell_type": "code",
   "execution_count": null,
   "id": "029c9ecf-c86b-4693-8964-0914959631be",
   "metadata": {},
   "outputs": [],
   "source": [
    "print(5467389387654 < 567564783929837647321)  # ist eins kleiner als drei?"
   ]
  },
  {
   "cell_type": "markdown",
   "id": "25a0118f-2cc7-41f6-a235-d6c5365e640d",
   "metadata": {},
   "source": [
    "Aber was ist denn `True`? Das heißt wahr auf englisch. Und das macht ja auch Sinn, denn `1` ist ja kleiner als `3` (`1 < 3`). Was passiert wenn wir etwas ausprobieren, was nicht wahr ist?"
   ]
  },
  {
   "cell_type": "code",
   "execution_count": null,
   "id": "508aeece-d4e5-4fa6-94fc-d15bcd888746",
   "metadata": {},
   "outputs": [],
   "source": [
    "print(1 > 3)  # ist eins größer als drei?"
   ]
  },
  {
   "cell_type": "markdown",
   "id": "11cab9f8-6c15-4d23-beb7-f5bfda2dde64",
   "metadata": {},
   "source": [
    "An dieser Stelle wird `False` ausgegeben, das bedeutet das die Aussage `1 > 3` (eins ist größer als drei) nicht wahr ist. Ist sie ja auch nicht ;)\n",
    "\n",
    "Die Werte `True` und `False` werden uns vielleicht später nochmal begegnen, jetzt kümmern wir uns aber erstmal um die wichtigen Dinge!"
   ]
  },
  {
   "cell_type": "markdown",
   "id": "d946a4cc-7b2a-4478-8393-a0c4e58973dc",
   "metadata": {},
   "source": [
    "## Variablen\n",
    "\n",
    "Eine Variable ist wie ein Zettel, auf dem man etwas aufschreiben und sich merken kann.\n",
    "\n",
    "Eine Variable hat einen Namen z.B. `zahl` und sie hat einen Wert, den man sich merken möchte `zahl = 42`.\n",
    "\n",
    "Im Folgenden kannst du deine eigene Lieblingszahl speichern:"
   ]
  },
  {
   "cell_type": "code",
   "execution_count": null,
   "id": "a016316f-4153-41fc-a354-26ecd8b045d0",
   "metadata": {},
   "outputs": [],
   "source": [
    "zah9 = 43456789"
   ]
  },
  {
   "cell_type": "markdown",
   "id": "54b74a9e-8ec6-40d5-b3b2-837ed2563edc",
   "metadata": {},
   "source": [
    "Jetzt sieht man erstmal nichts, aber tatsächlich haben wir es geschafft! Wir haben deine Lieblingszahl gespeichert. Jetzt kannst du auf darauf zugreifen:"
   ]
  },
  {
   "cell_type": "code",
   "execution_count": null,
   "id": "eabcbbe3-22f3-44e8-8fc3-fc4c42c3b360",
   "metadata": {},
   "outputs": [],
   "source": [
    "print(zah9)"
   ]
  },
  {
   "cell_type": "markdown",
   "id": "c96c5424-1864-4c7c-99f7-1f6ab637ddf4",
   "metadata": {},
   "source": [
    "Hurra! Deine Lieblingszahl gespeichert in deiner Variable.\n",
    "\n",
    "Es wirkt erstmal nicht so besonders, aber tatsächlich ist das eine ganz wichtige Sache, um Programme zu schreiben.\n",
    "\n",
    "Was wir jetzt machen können, ist mit deiner Variablen zu rechnen z.B. `print(zahl + 1)`.\n",
    "\n",
    "## Mission\n",
    "Probier mal die folgenden Dinge auszurechnen:\n",
    "\n",
    "* Die Zahl eins größer als deine Lieblingszahl.\n",
    "* Das Doppelte deiner Variable.\n",
    "* Den Kehrwert, das ist die Zahl `1` geteilt durch deine Variable.\n",
    "* Deine Lieblingszahl hoch 2.\n",
    "* Deine Lieblingszahl mal sich selbst.\n",
    "* Erstelle eine zweite Variable mit einem Namen deiner Wahl.\n",
    "* Was ist `zahl` + deine Variable?"
   ]
  },
  {
   "cell_type": "code",
   "execution_count": null,
   "id": "67ce67b1-a06c-465e-a019-86fdc0f3f5c1",
   "metadata": {},
   "outputs": [],
   "source": [
    "zahl = 777777777"
   ]
  },
  {
   "cell_type": "markdown",
   "id": "8f2ff571-b1b5-4103-bb79-62ee091f1996",
   "metadata": {},
   "source": [
    "Ok, eine Sache zeige ich euch noch in diesem Notebook. Das praktische an Variablen ist auch, dass man sie verändern kann.\n",
    "\n",
    "Probiere die folgenden Zeilen mehrmals aus."
   ]
  },
  {
   "cell_type": "code",
   "execution_count": null,
   "id": "aec5adb6-bc05-445e-bdf7-19f691e60c12",
   "metadata": {},
   "outputs": [],
   "source": [
    "zahl = zahl / 2.5\n",
    "print(zahl)"
   ]
  },
  {
   "cell_type": "markdown",
   "id": "e144aeb8-db6b-4593-83ff-ce02c49b1e24",
   "metadata": {},
   "source": [
    "Schauen wir uns die Zeile `zahl = zahl + 1` mal genauer an. Was passiert hier?\n",
    "\n",
    "Sagen wir `zahl` ist am Anfang `42`.\n",
    "Als erstes rechnen wir die rechte Seite aus `zahl + 1`. Da kommt jetzt `43` raus. Jetzt steht dort quasi `zahl = 43`. Wir haben unsere Variable also um eins erhöht."
   ]
  },
  {
   "cell_type": "markdown",
   "id": "d0e08edc-ea2c-4b37-9d1d-2495d26e8734",
   "metadata": {},
   "source": [
    "## Mission\n",
    "\n",
    "* Erhöhe jedes mal deine Variable um 2.\n",
    "* Verdopple deine Variable jedes mal.\n",
    "* Teile `1` jedes mal durch deine Zahl.\n",
    "\n",
    "Tipp: Wenn die Zahl zu groß geworden ist, kannst du sie mit `zahl = 42` zurück setzen."
   ]
  },
  {
   "cell_type": "code",
   "execution_count": null,
   "id": "056dc9d7-dac0-496e-bd03-d0c60f4caf05",
   "metadata": {},
   "outputs": [],
   "source": [
    "zahl = 42\n",
    "zahl + 2\n",
    "zahl = zahl + 2\n",
    "zahl = zahl * 2\n",
    "print (zahl)"
   ]
  },
  {
   "cell_type": "code",
   "execution_count": null,
   "id": "93d473b6-4019-4d7d-b401-bddfcf51c7f1",
   "metadata": {},
   "outputs": [],
   "source": []
  },
  {
   "cell_type": "markdown",
   "id": "0349b727-ae1f-4e22-ae43-dc96cfa28b25",
   "metadata": {},
   "source": [
    "Ok, das war es erstmal mit der ersten Anleitung. Das ist ein guter Moment, um eine Pause zu machen! Schau mal was die anderen machen oder genieß das hoffenlich schöne Wetter.\n",
    "\n",
    "Dann kannst du auch die weiteren Anleitungen anschauen. Dort schauen wir uns an, wie man Ton abspielen kann oder kleine Schildkröten steuern kann."
   ]
  },
  {
   "cell_type": "code",
   "execution_count": null,
   "id": "b38a48ec-e727-4b66-9d27-9eac0f9118ef",
   "metadata": {},
   "outputs": [],
   "source": []
  },
  {
   "cell_type": "code",
   "execution_count": null,
   "id": "66539c8f-3836-4f82-bbe1-27371d5be6de",
   "metadata": {},
   "outputs": [],
   "source": []
  },
  {
   "cell_type": "code",
   "execution_count": null,
   "id": "9c405b23-bc1c-475a-ac6e-1bd335831d92",
   "metadata": {},
   "outputs": [],
   "source": []
  },
  {
   "cell_type": "code",
   "execution_count": null,
   "id": "7b071dc7-a003-481d-8d57-8cb5c38a6272",
   "metadata": {},
   "outputs": [],
   "source": []
  },
  {
   "cell_type": "code",
   "execution_count": null,
   "id": "8744a959-285a-413e-968a-e65cfb92972b",
   "metadata": {},
   "outputs": [],
   "source": []
  },
  {
   "cell_type": "code",
   "execution_count": null,
   "id": "3da10cd4-63a4-40c9-b765-c486066fbd00",
   "metadata": {},
   "outputs": [],
   "source": []
  },
  {
   "cell_type": "code",
   "execution_count": null,
   "id": "c22b091a-770f-4cd7-abb6-084090140cdb",
   "metadata": {},
   "outputs": [],
   "source": []
  },
  {
   "cell_type": "code",
   "execution_count": null,
   "id": "cea114ca-0186-4066-b8a2-15867ccaf969",
   "metadata": {},
   "outputs": [],
   "source": []
  },
  {
   "cell_type": "code",
   "execution_count": null,
   "id": "291e7b20-891f-4736-bef0-e2d81b4d2be8",
   "metadata": {},
   "outputs": [],
   "source": []
  },
  {
   "cell_type": "code",
   "execution_count": null,
   "id": "1b307d0f-91a7-45f0-8715-ee1e1290b95c",
   "metadata": {},
   "outputs": [],
   "source": [
    "print (\"hello\")"
   ]
  },
  {
   "cell_type": "code",
   "execution_count": null,
   "id": "b9c56b01-03b5-44a8-ace2-8e7b5039fcff",
   "metadata": {},
   "outputs": [],
   "source": []
  },
  {
   "cell_type": "code",
   "execution_count": null,
   "id": "068af748-584b-4b43-bcaa-3b2c44ae0131",
   "metadata": {},
   "outputs": [],
   "source": []
  },
  {
   "cell_type": "code",
   "execution_count": null,
   "id": "c7702d9a-8175-4993-9a79-3913b0ad5008",
   "metadata": {},
   "outputs": [],
   "source": []
  },
  {
   "cell_type": "code",
   "execution_count": null,
   "id": "9545b98b-3bb6-4b91-9b9a-855ad84bbd35",
   "metadata": {},
   "outputs": [],
   "source": []
  },
  {
   "cell_type": "code",
   "execution_count": null,
   "id": "2d096e9b-05b7-44dd-8a16-43d599f2b576",
   "metadata": {},
   "outputs": [],
   "source": []
  },
  {
   "cell_type": "code",
   "execution_count": null,
   "id": "3cabc702-8c83-4997-8ce8-acd6bad8cf7a",
   "metadata": {},
   "outputs": [],
   "source": []
  },
  {
   "cell_type": "code",
   "execution_count": null,
   "id": "80373361-d9e4-4559-a12c-aeb0391f138e",
   "metadata": {},
   "outputs": [],
   "source": []
  },
  {
   "cell_type": "code",
   "execution_count": null,
   "id": "6d3db672-eba3-45a0-8b55-097d8cd6e806",
   "metadata": {},
   "outputs": [],
   "source": []
  },
  {
   "cell_type": "code",
   "execution_count": null,
   "id": "b4593c9a-5655-4200-81c8-dd7b1dab5ef7",
   "metadata": {},
   "outputs": [],
   "source": []
  },
  {
   "cell_type": "code",
   "execution_count": null,
   "id": "9644aceb-cd42-4df9-92eb-a26bff81ea6f",
   "metadata": {},
   "outputs": [],
   "source": []
  },
  {
   "cell_type": "code",
   "execution_count": null,
   "id": "a079a157-ce5f-48c7-a047-8283bf2abb25",
   "metadata": {},
   "outputs": [],
   "source": []
  },
  {
   "cell_type": "code",
   "execution_count": null,
   "id": "e4e87c7b-7c01-49c2-90a6-fd56e1eaa756",
   "metadata": {},
   "outputs": [],
   "source": []
  },
  {
   "cell_type": "code",
   "execution_count": null,
   "id": "e756d1ef-0ef1-4c1f-9e88-44a2fa91ca29",
   "metadata": {},
   "outputs": [],
   "source": []
  },
  {
   "cell_type": "code",
   "execution_count": null,
   "id": "b09adde5-0359-4abb-8a44-cbb4eb204593",
   "metadata": {},
   "outputs": [],
   "source": []
  },
  {
   "cell_type": "code",
   "execution_count": null,
   "id": "15402442-86e6-4fd7-bea3-90a11fc1ba75",
   "metadata": {},
   "outputs": [],
   "source": []
  },
  {
   "cell_type": "code",
   "execution_count": null,
   "id": "114d7006-c374-4c9f-90aa-4d49b0ec066b",
   "metadata": {},
   "outputs": [],
   "source": []
  },
  {
   "cell_type": "code",
   "execution_count": null,
   "id": "88093744-c99b-41e3-a451-60acca00cf3e",
   "metadata": {},
   "outputs": [],
   "source": []
  },
  {
   "cell_type": "code",
   "execution_count": null,
   "id": "622e3de1-ef98-4169-8772-09deee79e2b9",
   "metadata": {},
   "outputs": [],
   "source": []
  },
  {
   "cell_type": "code",
   "execution_count": null,
   "id": "f5e4e807-d6f3-4928-b34b-79b1f8de8378",
   "metadata": {},
   "outputs": [],
   "source": []
  },
  {
   "cell_type": "code",
   "execution_count": null,
   "id": "fc18bd25-2bab-431c-bc01-c7afc99b8577",
   "metadata": {},
   "outputs": [],
   "source": []
  },
  {
   "cell_type": "code",
   "execution_count": null,
   "id": "33c2b5f7-78b3-46ee-88b0-806c4bb35193",
   "metadata": {},
   "outputs": [],
   "source": []
  },
  {
   "cell_type": "code",
   "execution_count": null,
   "id": "3af62da2-3fde-4893-ae0d-187268456166",
   "metadata": {},
   "outputs": [],
   "source": []
  },
  {
   "cell_type": "code",
   "execution_count": null,
   "id": "353a7a2e-392e-4fe3-b61f-fdcc6f8fe491",
   "metadata": {},
   "outputs": [],
   "source": []
  },
  {
   "cell_type": "code",
   "execution_count": null,
   "id": "781de717-9d7e-475e-aab4-e536e12fcb3a",
   "metadata": {},
   "outputs": [],
   "source": []
  },
  {
   "cell_type": "code",
   "execution_count": null,
   "id": "308f9008-f158-4f8e-97a2-cf8252101a58",
   "metadata": {},
   "outputs": [],
   "source": []
  },
  {
   "cell_type": "code",
   "execution_count": null,
   "id": "9afd0b0b-9b38-4dad-b8b2-a6eab04be29e",
   "metadata": {},
   "outputs": [],
   "source": []
  },
  {
   "cell_type": "code",
   "execution_count": null,
   "id": "81e921df-b2fd-4845-ac28-e435c2c6c2f4",
   "metadata": {},
   "outputs": [],
   "source": []
  },
  {
   "cell_type": "code",
   "execution_count": null,
   "id": "d64fa388-e11e-4705-aa81-64d40c241df7",
   "metadata": {},
   "outputs": [],
   "source": []
  },
  {
   "cell_type": "code",
   "execution_count": null,
   "id": "70d1106d-2bd5-49d3-bfae-85fe5ba57e47",
   "metadata": {},
   "outputs": [],
   "source": []
  },
  {
   "cell_type": "code",
   "execution_count": null,
   "id": "b3a8265c-412c-41e2-9859-d61d6ee55fca",
   "metadata": {},
   "outputs": [],
   "source": []
  },
  {
   "cell_type": "code",
   "execution_count": null,
   "id": "6d37bad7-627b-43de-9302-f6cfccb6d766",
   "metadata": {},
   "outputs": [],
   "source": []
  },
  {
   "cell_type": "code",
   "execution_count": null,
   "id": "ff88b5cc-f7d9-489d-971d-2636a88e81f3",
   "metadata": {},
   "outputs": [],
   "source": []
  },
  {
   "cell_type": "code",
   "execution_count": null,
   "id": "a751978f-5eb0-43a9-a03a-2a7e8ded277f",
   "metadata": {},
   "outputs": [],
   "source": []
  },
  {
   "cell_type": "code",
   "execution_count": null,
   "id": "148a452e-8523-4cea-9c31-040186aa8e05",
   "metadata": {},
   "outputs": [],
   "source": []
  },
  {
   "cell_type": "code",
   "execution_count": null,
   "id": "43c3138b-088c-4fc8-9b42-2f49f8a57b0d",
   "metadata": {},
   "outputs": [],
   "source": []
  },
  {
   "cell_type": "code",
   "execution_count": null,
   "id": "39754049-38d3-40e1-94a6-8d9ce92b185b",
   "metadata": {},
   "outputs": [],
   "source": []
  },
  {
   "cell_type": "code",
   "execution_count": null,
   "id": "9ff4178f-7d5d-4de5-85ad-d8a28ab4822d",
   "metadata": {},
   "outputs": [],
   "source": []
  },
  {
   "cell_type": "code",
   "execution_count": null,
   "id": "a9d60cee-4d25-437d-975b-0881f5bc719c",
   "metadata": {},
   "outputs": [],
   "source": []
  },
  {
   "cell_type": "code",
   "execution_count": null,
   "id": "21bd9dd0-abe9-4ad7-a01e-8e082b3d8e93",
   "metadata": {},
   "outputs": [],
   "source": []
  },
  {
   "cell_type": "code",
   "execution_count": null,
   "id": "c8a88533-3366-43e0-8ad6-8f29bd9eaa64",
   "metadata": {},
   "outputs": [],
   "source": []
  },
  {
   "cell_type": "code",
   "execution_count": null,
   "id": "416b977c-f092-4ca2-8617-18dbc8d22971",
   "metadata": {},
   "outputs": [],
   "source": []
  },
  {
   "cell_type": "code",
   "execution_count": null,
   "id": "17344f16-ab9a-4387-b807-29e54cb76daa",
   "metadata": {},
   "outputs": [],
   "source": []
  },
  {
   "cell_type": "code",
   "execution_count": null,
   "id": "80950397-7103-4d20-b0ce-94b6228cf787",
   "metadata": {},
   "outputs": [],
   "source": []
  },
  {
   "cell_type": "code",
   "execution_count": null,
   "id": "5ec3c83f-86ff-454f-8566-bb4d6ce772c8",
   "metadata": {},
   "outputs": [],
   "source": []
  },
  {
   "cell_type": "code",
   "execution_count": null,
   "id": "9ba0945c-0be5-4c9e-be97-876d5cff4487",
   "metadata": {},
   "outputs": [],
   "source": []
  },
  {
   "cell_type": "code",
   "execution_count": null,
   "id": "b44098a1-8173-44e9-9b8f-57edfb51e86a",
   "metadata": {},
   "outputs": [],
   "source": []
  },
  {
   "cell_type": "code",
   "execution_count": null,
   "id": "49af4a32-7dcd-4d94-b552-32d97f89360a",
   "metadata": {},
   "outputs": [],
   "source": []
  },
  {
   "cell_type": "code",
   "execution_count": null,
   "id": "0b778948-d1b8-4b3a-ad2e-917229ea7cd4",
   "metadata": {},
   "outputs": [],
   "source": []
  },
  {
   "cell_type": "code",
   "execution_count": null,
   "id": "b7eb56ce-5a99-44bc-b5c7-530b8cdc92e5",
   "metadata": {},
   "outputs": [],
   "source": []
  },
  {
   "cell_type": "code",
   "execution_count": null,
   "id": "d37edf1a-a590-4b53-b9f7-2857a3cb9a5d",
   "metadata": {},
   "outputs": [],
   "source": []
  },
  {
   "cell_type": "code",
   "execution_count": null,
   "id": "13bdc2b4-700c-4b66-8fc4-ed469eaa5947",
   "metadata": {},
   "outputs": [],
   "source": []
  },
  {
   "cell_type": "code",
   "execution_count": null,
   "id": "4e1451ba-c0e3-4fbb-9698-9c32ae2afac0",
   "metadata": {},
   "outputs": [],
   "source": []
  },
  {
   "cell_type": "code",
   "execution_count": null,
   "id": "13bb9ea2-7f51-4d57-bd48-d1872ae843b7",
   "metadata": {},
   "outputs": [],
   "source": []
  },
  {
   "cell_type": "code",
   "execution_count": null,
   "id": "f1ff9676-b7a6-45a0-9be3-0818ba8e6ddb",
   "metadata": {},
   "outputs": [],
   "source": []
  },
  {
   "cell_type": "code",
   "execution_count": null,
   "id": "da7a4fbe-a85a-4121-bc70-2c3a0f375de4",
   "metadata": {},
   "outputs": [],
   "source": []
  },
  {
   "cell_type": "code",
   "execution_count": null,
   "id": "663aa056-da11-4cba-9d8d-6219eff4bd3a",
   "metadata": {},
   "outputs": [],
   "source": []
  },
  {
   "cell_type": "code",
   "execution_count": null,
   "id": "6beb5aff-8b83-4420-8ee3-1335ec08e9a5",
   "metadata": {},
   "outputs": [],
   "source": []
  },
  {
   "cell_type": "code",
   "execution_count": null,
   "id": "3bbfb80b-4223-4a66-a29b-871f9c1db518",
   "metadata": {},
   "outputs": [],
   "source": []
  },
  {
   "cell_type": "code",
   "execution_count": null,
   "id": "fe2bc014-0e38-4075-a29a-0655a13406e2",
   "metadata": {},
   "outputs": [],
   "source": []
  },
  {
   "cell_type": "code",
   "execution_count": null,
   "id": "bd94c450-24f5-4fd6-9790-98249a5f99bf",
   "metadata": {},
   "outputs": [],
   "source": []
  },
  {
   "cell_type": "code",
   "execution_count": null,
   "id": "394393d7-d9db-4517-8744-0364fe228bfc",
   "metadata": {},
   "outputs": [],
   "source": []
  },
  {
   "cell_type": "code",
   "execution_count": null,
   "id": "e5eed183-401e-4757-8d0b-064ba7de824c",
   "metadata": {},
   "outputs": [],
   "source": []
  },
  {
   "cell_type": "code",
   "execution_count": null,
   "id": "d2830ef4-9522-495e-a026-5fd5136bc272",
   "metadata": {},
   "outputs": [],
   "source": [
    "\n",
    "\n",
    "\n",
    "\n",
    "\n",
    "\n",
    "\n",
    "\n",
    "\n",
    "\n",
    "\n",
    "\n",
    "\n",
    "\n",
    "\n",
    "\n",
    "\n",
    "\n",
    "\n",
    "\n",
    "\n",
    "\n",
    "\n",
    "\n",
    "\n",
    "\n",
    "\n",
    "\n",
    "\n",
    "\n",
    "\n",
    "\n",
    "\n",
    "\n",
    "\n",
    "\n",
    "\n",
    "\n",
    "\n",
    "\n",
    "\n",
    "\n",
    "\n",
    "\n",
    "\n",
    "\n",
    "\n",
    "\n",
    "\n",
    "\n",
    "\n",
    "\n",
    "\n",
    "\n",
    "\n",
    "\n",
    "\n",
    "\n",
    "\n",
    "\n",
    "\n",
    "\n",
    "\n",
    "\n",
    "\n",
    "\n",
    "\n",
    "\n",
    "\n",
    "\n",
    "\n",
    "\n",
    "\n",
    "\n",
    "\n",
    "\n",
    "\n",
    "\n",
    "\n",
    "\n",
    "\n",
    "\n",
    "\n",
    "\n",
    "\n",
    "\n",
    "\n",
    "\n",
    "\n",
    "\n",
    "\n"
   ]
  }
 ],
 "metadata": {
  "kernelspec": {
   "display_name": "Python 3 (ipykernel)",
   "language": "python",
   "name": "python3"
  },
  "language_info": {
   "codemirror_mode": {
    "name": "ipython",
    "version": 3
   },
   "file_extension": ".py",
   "mimetype": "text/x-python",
   "name": "python",
   "nbconvert_exporter": "python",
   "pygments_lexer": "ipython3",
   "version": "3.12.11"
  }
 },
 "nbformat": 4,
 "nbformat_minor": 5
}
