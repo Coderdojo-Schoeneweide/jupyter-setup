{
 "cells": [
  {
   "cell_type": "markdown",
   "id": "f61ef9de-201b-4bae-905e-fefa80f667dd",
   "metadata": {},
   "source": [
    "Hier lernen wir, wie man in Python Musik machen kann. Dabei lernen wir auch, wie man in Python\n",
    "* Funktionen importiert und aufruft\n",
    "* Einfache Schleifen verwendet\n",
    "* Listen verwendet"
   ]
  },
  {
   "cell_type": "markdown",
   "id": "b7981b2b-7ffe-45a5-9f1f-4f5a8bdca7b7",
   "metadata": {},
   "source": [
    "Als erstes müssen wir die folgende Zeile ausführen. Das sorgt dafür, dass wir nachher `ton()` und `spiele()` verwenden können, die ich extra für diesen Workshop vorbereitet habe.\n",
    "\n",
    "Das `import` zeigt an, dass wir Dinge verwenden wollen, die jemand anderes schon vorbereitet hat.\n",
    "Das ist das coole am Programmieren, dass man die Dinge von anderen Leuten verwenden kann! Komplett kostenlos."
   ]
  },
  {
   "cell_type": "code",
   "execution_count": null,
   "id": "69a33ce3-8f02-4832-b912-212a07ec1951",
   "metadata": {},
   "outputs": [],
   "source": [
    "from musik import ton, spiele"
   ]
  },
  {
   "cell_type": "markdown",
   "id": "bf681423-9f24-48d5-9b03-2f9d293cc4ef",
   "metadata": {},
   "source": [
    "Jetzt wo wir mit der Vorbereitung fertig sind, können wir einen Ton abspielen. Das geht folgendesmaßen:"
   ]
  },
  {
   "cell_type": "code",
   "execution_count": null,
   "id": "cc1d7697-acdc-4c3f-9195-bbdac8abc009",
   "metadata": {},
   "outputs": [],
   "source": [
    "# Hier sagen wir, welcher Ton gespielt werden soll\n",
    "ton(0)\n",
    "\n",
    "# Hier wird der Ton abgespielt.\n",
    "spiele()"
   ]
  },
  {
   "cell_type": "markdown",
   "id": "0dc71358-6b14-4411-ad4d-3f6db42c160a",
   "metadata": {},
   "source": [
    "Wichtig ist, dass wir immer ganz am Ende die `spiele()`-Funktion verwenden, um den Ton abzuspielen. Sie funktioniert nur am Ende des Blockes.\n",
    "\n",
    "Wir können auch mehrere Töne abspielen:"
   ]
  },
  {
   "cell_type": "code",
   "execution_count": null,
   "id": "b33e64bb-2918-4f18-a7b0-8512ae1bfd17",
   "metadata": {},
   "outputs": [],
   "source": [
    "ton(0)\n",
    "ton(2)\n",
    "ton(4)\n",
    "\n",
    "spiele()"
   ]
  },
  {
   "cell_type": "markdown",
   "id": "ed61e7ca-177d-4b1b-9d29-0d76d71d8058",
   "metadata": {},
   "source": [
    "## Mission\n",
    "\n",
    "* Erstelle dein eigenes Lied!\n",
    "\n",
    "**Pro-Tipp:** Wenn du bei `ton(1)` noch ein zweites Argument übergibst, kannst du bestimmen, wie lange der Ton geht (in Sekunden), z.B. `ton(1, 0.5)`."
   ]
  },
  {
   "cell_type": "code",
   "execution_count": null,
   "id": "9d6cbdad-c61c-4a1d-a0e7-1aa0625714a7",
   "metadata": {},
   "outputs": [],
   "source": []
  },
  {
   "cell_type": "code",
   "execution_count": null,
   "id": "7d5d4358-3f1f-44d6-85fe-5d9a29e6aa12",
   "metadata": {},
   "outputs": [],
   "source": []
  },
  {
   "cell_type": "markdown",
   "id": "3f7758da-6a4c-4aff-9eaf-7eca8deb879a",
   "metadata": {},
   "source": [
    "## Töne und Variablen\n",
    "\n",
    "Wie du dir vielleicht schon denkst, können wir jetzt auch Variablen verwenden, um Töne zu erstellen."
   ]
  },
  {
   "cell_type": "code",
   "execution_count": null,
   "id": "73b1eab6-40e7-4fdd-bcee-bc4b8e19cb15",
   "metadata": {},
   "outputs": [],
   "source": [
    "meinton = 0\n",
    "dauer = 1.0\n",
    "\n",
    "ton(meinton, dauer*2)\n",
    "ton(meinton+1, dauer)\n",
    "ton(meinton+2, dauer)\n",
    "\n",
    "spiele()"
   ]
  },
  {
   "cell_type": "markdown",
   "id": "b4b9b61d-0ac0-4c45-9084-3f5002702355",
   "metadata": {},
   "source": [
    "Das ist ganz praktisch. Zum Beispiel können wir jetzt die Geschwindigkeit des Stückes verändern, indem wir die Variable `dauer` verkleinern oder die Tonhöhe ändern, indem wir `meinton` verändern. Probier das doch mal im Beispiel oben aus."
   ]
  },
  {
   "cell_type": "markdown",
   "id": "771443f5-e2f2-461b-807f-70b74274950c",
   "metadata": {},
   "source": [
    "## Schleifen\n",
    "\n",
    "Eine ganz tolle Möglichkeit, um viele Töne zu erstellen sind Schleifen! Die sind allerdings auch ein wenig kompliziert.\n",
    "\n",
    "Die grundlegende Idee ist, dass wir etwas mehrmals tun und zwar solange eine Bedingung `True` also wahr ist.\n",
    "\n",
    "Schauen wir uns einfach mal eine an:"
   ]
  },
  {
   "cell_type": "code",
   "execution_count": null,
   "id": "89e50b50-7f52-4b94-83d2-6bd33ab29cb8",
   "metadata": {},
   "outputs": [],
   "source": [
    "meinton = 0\n",
    "while meinton < 5:\n",
    "    ton(meinton)\n",
    "    meinton = meinton + 1\n",
    "    \n",
    "spiele()"
   ]
  },
  {
   "cell_type": "markdown",
   "id": "6ec48ccf-631a-48ae-8b9b-32cc7587e30b",
   "metadata": {},
   "source": [
    "Was passiert denn hier!?\n",
    "\n",
    "Ok, Stück für Stück:\n",
    "* `meinton = 0` hier wird eine Variable erstellt mit dem Wert `0`.\n",
    "* Jetzt kommt die Schleife:\n",
    "  * `while` sagt, dass wir hier die Schleife starten.\n",
    "  * Dann kommt die Bedingung `meinton < 5`. Solange diese Bedingung `True` (also wahr) ist, wird die Schleife wiederholt.\n",
    "  * `ton(meinton)`: Hier passiert die Arbeit. Wir spielen einen Ton ab.\n",
    "  * `meinton = meinton + 1`: Wir erhöhen `meinton` um eins. `meinton` ist jetzt also `1`.\n",
    "  * Und jetzt kommt die ganze Magie. An dieser Stelle machen wir nicht einfach weiter, sondern wir springen wieder nach oben in der Schleife und prüfen unsere Bedingung `meinton < 5`."
   ]
  },
  {
   "cell_type": "code",
   "execution_count": null,
   "id": "ec5286de-06c5-45a0-a0db-dd416924f96b",
   "metadata": {},
   "outputs": [],
   "source": []
  }
 ],
 "metadata": {
  "kernelspec": {
   "display_name": "Python 3 (ipykernel)",
   "language": "python",
   "name": "python3"
  },
  "language_info": {
   "codemirror_mode": {
    "name": "ipython",
    "version": 3
   },
   "file_extension": ".py",
   "mimetype": "text/x-python",
   "name": "python",
   "nbconvert_exporter": "python",
   "pygments_lexer": "ipython3",
   "version": "3.12.11"
  }
 },
 "nbformat": 4,
 "nbformat_minor": 5
}
