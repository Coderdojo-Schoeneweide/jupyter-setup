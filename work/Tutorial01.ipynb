{
 "cells": [
  {
   "cell_type": "markdown",
   "id": "267114bc-cf5a-4032-98be-0c4c1cb453b9",
   "metadata": {},
   "source": [
    "# Vorbereitung\n",
    "\n",
    "Du ließt gerade ein sogenanntes \"Jupyter Notebook\". Hier kannst du Erklärungen lesen und Python Programme ausprobieren.\n",
    "\n",
    "Bevor wir loslegen können, klicke oben links auf `Datei > Notebook speichern als` und gebe der Datei einen Namen z.B. `Tutorial01_<DeinName>.ipynb`. Sonst haben wir das Problem, dass alle im selben Notebook schreiben."
   ]
  },
  {
   "cell_type": "markdown",
   "id": "557f7328-d331-4978-a4dc-a8a53f8169ed",
   "metadata": {},
   "source": [
    "# Wir lernen Python\n",
    "\n",
    "Um etwas auszuprobieren klicke in die Zeile und drücke gleichzeitig Shift + Enter.\n",
    "\n",
    "Probier mal die folgende Zeile aus:"
   ]
  },
  {
   "cell_type": "code",
   "execution_count": null,
   "id": "f967e4f6-aef6-47df-b817-640f5ce27a27",
   "metadata": {},
   "outputs": [],
   "source": [
    "# Hier beginnt das Program.\n",
    "print('Das ist mein erstes Python-Programm!')"
   ]
  },
  {
   "cell_type": "markdown",
   "id": "6b8ccaba-7794-4e37-baab-4e056ce9cf3e",
   "metadata": {},
   "source": [
    "Hurra, du hast es geschafft! Diese Python-Zeile hat den Text `Das ist mein erstes Python-Programm!` ausgegeben. Du solltest diesen Text jetzt unter dem Programm sehen können.\n",
    "\n",
    "Kannst du den Text ändern und dein eigenes Programm daraus machen?"
   ]
  },
  {
   "cell_type": "markdown",
   "id": "48b5e056-42d2-4263-a174-319b63eeeea5",
   "metadata": {},
   "source": [
    "## Rechnen\n",
    "Du kannst auch Rechnen mit Python:"
   ]
  },
  {
   "cell_type": "code",
   "execution_count": null,
   "id": "43f2c9b5-3bb8-4a4b-a0e9-85c83eb55de2",
   "metadata": {},
   "outputs": [],
   "source": [
    "# Ausprobieren: Hier klicken und dann Shift + Enter drücken.\n",
    "print(3+5)"
   ]
  },
  {
   "cell_type": "markdown",
   "id": "85208c26-d54d-48ee-95e9-5a2bf2f5afac",
   "metadata": {},
   "source": [
    "Du kannst ja mal andere Zahlen ausprobieren.\n",
    "\n",
    "Kleiner Tipp: Mit `+`, `-`, `*` und `/` kannst du die vier Grundrechenarten durchführen. Außerdem gibt es `**`, um hoch zu berechnen."
   ]
  },
  {
   "cell_type": "code",
   "execution_count": null,
   "id": "d07d7c21-8aaf-455e-bf61-eaf21bcde868",
   "metadata": {},
   "outputs": [],
   "source": []
  }
 ],
 "metadata": {
  "kernelspec": {
   "display_name": "Python 3 (ipykernel)",
   "language": "python",
   "name": "python3"
  },
  "language_info": {
   "codemirror_mode": {
    "name": "ipython",
    "version": 3
   },
   "file_extension": ".py",
   "mimetype": "text/x-python",
   "name": "python",
   "nbconvert_exporter": "python",
   "pygments_lexer": "ipython3",
   "version": "3.12.11"
  }
 },
 "nbformat": 4,
 "nbformat_minor": 5
}
